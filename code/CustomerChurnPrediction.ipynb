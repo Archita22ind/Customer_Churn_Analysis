{
 "cells": [
  {
   "cell_type": "markdown",
   "id": "d1cee133",
   "metadata": {},
   "source": [
    "# Customer Churn Analysis\n",
    "### Team-5\n",
    "#### Aishwarya Paruchuri\n",
    "#### Archita Chakraborty\n",
    "#### Manjushree Barike Rajanna\n",
    "#### Rohit Chandra"
   ]
  },
  {
   "cell_type": "markdown",
   "id": "0db512c9",
   "metadata": {},
   "source": [
    " ** Python statements that import the standard libraries **"
   ]
  },
  {
   "cell_type": "code",

   "execution_count": 155,
   "id": "f99968fe",
   "metadata": {
    "ExecuteTime": {
     "end_time": "2021-11-16T18:56:37.129875Z",
     "start_time": "2021-11-16T18:56:37.120889Z"
    }
   },
   "outputs": [],
   "source": [
    "import numpy as np\n",
    "\n",
    "import pandas as pd"
   ]
  },
  {
   "cell_type": "code",
   "execution_count": 156,
   "id": "136873c2",
   "metadata": {
    "ExecuteTime": {
     "end_time": "2021-11-16T18:56:37.438730Z",
     "start_time": "2021-11-16T18:56:37.408813Z"
    }
   },
   "outputs": [
    {
     "data": {
      "text/html": [
       "<div>\n",
       "<style scoped>\n",
       "    .dataframe tbody tr th:only-of-type {\n",
       "        vertical-align: middle;\n",
       "    }\n",
       "\n",
       "    .dataframe tbody tr th {\n",
       "        vertical-align: top;\n",
       "    }\n",
       "\n",
       "    .dataframe thead th {\n",
       "        text-align: right;\n",
       "    }\n",
       "</style>\n",
       "<table border=\"1\" class=\"dataframe\">\n",
       "  <thead>\n",
       "    <tr style=\"text-align: right;\">\n",
       "      <th></th>\n",
       "      <th>Call  Failure</th>\n",
       "      <th>Complains</th>\n",
       "      <th>Subscription  Length</th>\n",
       "      <th>Charge  Amount</th>\n",
       "      <th>Seconds of Use</th>\n",
       "      <th>Frequency of use</th>\n",
       "      <th>Frequency of SMS</th>\n",
       "      <th>Distinct Called Numbers</th>\n",
       "      <th>Tariff Plan</th>\n",
       "      <th>Status</th>\n",
       "      <th>Age</th>\n",
       "      <th>Customer Value</th>\n",
       "      <th>FN</th>\n",
       "      <th>FP</th>\n",
       "      <th>Churn</th>\n",
       "    </tr>\n",
       "  </thead>\n",
       "  <tbody>\n",
       "    <tr>\n",
       "      <th>0</th>\n",
       "      <td>8</td>\n",
       "      <td>0</td>\n",
       "      <td>38.0</td>\n",
       "      <td>0</td>\n",
       "      <td>4370</td>\n",
       "      <td>71.0</td>\n",
       "      <td>5.0</td>\n",
       "      <td>17.0</td>\n",
       "      <td>1</td>\n",
       "      <td>1</td>\n",
       "      <td>5</td>\n",
       "      <td>197.640</td>\n",
       "      <td>177.8760</td>\n",
       "      <td>69.7640</td>\n",
       "      <td>0</td>\n",
       "    </tr>\n",
       "    <tr>\n",
       "      <th>1</th>\n",
       "      <td>O</td>\n",
       "      <td>0</td>\n",
       "      <td>39.0</td>\n",
       "      <td>0</td>\n",
       "      <td>NaN</td>\n",
       "      <td>5.0</td>\n",
       "      <td>7.0</td>\n",
       "      <td>4.0</td>\n",
       "      <td>1</td>\n",
       "      <td>1</td>\n",
       "      <td>6</td>\n",
       "      <td>46.035</td>\n",
       "      <td>41.4315</td>\n",
       "      <td>60.0000</td>\n",
       "      <td>0</td>\n",
       "    </tr>\n",
       "    <tr>\n",
       "      <th>2</th>\n",
       "      <td>10</td>\n",
       "      <td>0</td>\n",
       "      <td>37.0</td>\n",
       "      <td>0</td>\n",
       "      <td>2453</td>\n",
       "      <td>60.0</td>\n",
       "      <td>359.0</td>\n",
       "      <td>24.0</td>\n",
       "      <td>1</td>\n",
       "      <td>1</td>\n",
       "      <td>2</td>\n",
       "      <td>1536.520</td>\n",
       "      <td>1382.8680</td>\n",
       "      <td>203.6520</td>\n",
       "      <td>0</td>\n",
       "    </tr>\n",
       "    <tr>\n",
       "      <th>3</th>\n",
       "      <td>10</td>\n",
       "      <td>0</td>\n",
       "      <td>38.0</td>\n",
       "      <td>0</td>\n",
       "      <td>4198</td>\n",
       "      <td>66.0</td>\n",
       "      <td>1.0</td>\n",
       "      <td>35.0</td>\n",
       "      <td>1</td>\n",
       "      <td>1</td>\n",
       "      <td>10</td>\n",
       "      <td>240.020</td>\n",
       "      <td>216.0180</td>\n",
       "      <td>74.0020</td>\n",
       "      <td>0</td>\n",
       "    </tr>\n",
       "    <tr>\n",
       "      <th>4</th>\n",
       "      <td>3</td>\n",
       "      <td>0</td>\n",
       "      <td>NaN</td>\n",
       "      <td>0</td>\n",
       "      <td>2393</td>\n",
       "      <td>58.0</td>\n",
       "      <td>2.0</td>\n",
       "      <td>33.0</td>\n",
       "      <td>1</td>\n",
       "      <td>1</td>\n",
       "      <td>9</td>\n",
       "      <td>145.805</td>\n",
       "      <td>131.2245</td>\n",
       "      <td>64.5805</td>\n",
       "      <td>0</td>\n",
       "    </tr>\n",
       "  </tbody>\n",
       "</table>\n",
       "</div>"
      ],
      "text/plain": [
       "  Call  Failure Complains  Subscription  Length Charge  Amount Seconds of Use  \\\n",
       "0             8         0                  38.0              0           4370   \n",
       "1             O         0                  39.0              0            NaN   \n",
       "2            10         0                  37.0              0           2453   \n",
       "3            10         0                  38.0              0           4198   \n",
       "4             3         0                   NaN              0           2393   \n",
       "\n",
       "   Frequency of use  Frequency of SMS  Distinct Called Numbers  Tariff Plan  \\\n",
       "0              71.0               5.0                     17.0            1   \n",
       "1               5.0               7.0                      4.0            1   \n",
       "2              60.0             359.0                     24.0            1   \n",
       "3              66.0               1.0                     35.0            1   \n",
       "4              58.0               2.0                     33.0            1   \n",
       "\n",
       "   Status  Age  Customer Value         FN        FP  Churn  \n",
       "0       1    5         197.640   177.8760   69.7640      0  \n",
       "1       1    6          46.035    41.4315   60.0000      0  \n",
       "2       1    2        1536.520  1382.8680  203.6520      0  \n",
       "3       1   10         240.020   216.0180   74.0020      0  \n",
       "4       1    9         145.805   131.2245   64.5805      0  "
      ]
     },
     "execution_count": 156,
     "metadata": {},
     "output_type": "execute_result"
    }
   ],
   "source": [
    "#read the csv file in a dataframe\n",
    "churn_df = pd.read_csv(\"../data/Customer_churn_raw.csv\")\n",
    "\n",
    "churn_df.head()"
   ]
  },
  {
   "cell_type": "code",
   "execution_count": 157,
   "id": "e82a671c",
   "metadata": {
    "ExecuteTime": {
     "end_time": "2021-11-16T18:56:37.642788Z",
     "start_time": "2021-11-16T18:56:37.623840Z"
    }
   },
   "outputs": [],
   "source": [
    "#rename the columns\n",
    "churn_df=churn_df.rename(columns={\"Call  Failure\": \"call_failure\", \"Complains\": \"complains\", \"Subscription  Length\": \"subs_len\", \"Charge  Amount\": \"charge_amount\",\n",
    "                   \"Seconds of Use\": \"seconds_of_use\", \"Frequency of use\": \"freq_of_use\", \"Frequency of SMS\": \"freq_of_sms\", \"Distinct Called Numbers\": \"distinct_call_nums\",\n",
    "                   \"Age Group\": \"age_group\", \"Tariff Plan\": \"tariff_plan\", \"Status\": \"status\", \"Age\": \"age\", \"Customer Value\": \"customer_value\"})"
   ]
  },
  {
   "cell_type": "code",
   "execution_count": 158,
   "id": "8d12488e",
   "metadata": {
    "ExecuteTime": {
     "end_time": "2021-11-16T18:56:37.813104Z",
     "start_time": "2021-11-16T18:56:37.793177Z"
    }
   },
   "outputs": [
    {
     "data": {
      "text/plain": [
       "Index(['call_failure', 'complains', 'subs_len', 'charge_amount',\n",
       "       'seconds_of_use', 'freq_of_use', 'freq_of_sms', 'distinct_call_nums',\n",
       "       'tariff_plan', 'status', 'age', 'customer_value', 'FN', 'FP', 'Churn'],\n",
       "      dtype='object')"
      ]
     },
     "execution_count": 158,
     "metadata": {},
     "output_type": "execute_result"
    }
   ],
   "source": [
    "#print the columns\n",
    "churn_df.columns"
   ]
  },
  {
   "cell_type": "markdown",
   "id": "8e7b1d6c",
   "metadata": {},
   "source": [
    "## Exploratory Data Analysis"
   ]
  },
  {
   "cell_type": "code",
   "execution_count": 159,
   "id": "aa6d3e7b",
   "metadata": {
    "ExecuteTime": {
     "end_time": "2021-11-16T18:56:38.205306Z",
     "start_time": "2021-11-16T18:56:38.184362Z"
    }
   },
   "outputs": [
    {
     "data": {
      "text/html": [
       "<div>\n",
       "<style scoped>\n",
       "    .dataframe tbody tr th:only-of-type {\n",
       "        vertical-align: middle;\n",
       "    }\n",
       "\n",
       "    .dataframe tbody tr th {\n",
       "        vertical-align: top;\n",
       "    }\n",
       "\n",
       "    .dataframe thead th {\n",
       "        text-align: right;\n",
       "    }\n",
       "</style>\n",
       "<table border=\"1\" class=\"dataframe\">\n",
       "  <thead>\n",
       "    <tr style=\"text-align: right;\">\n",
       "      <th></th>\n",
       "      <th>call_failure</th>\n",
       "      <th>complains</th>\n",
       "      <th>subs_len</th>\n",
       "    </tr>\n",
       "  </thead>\n",
       "  <tbody>\n",
       "    <tr>\n",
       "      <th>0</th>\n",
       "      <td>8</td>\n",
       "      <td>0</td>\n",
       "      <td>38.0</td>\n",
       "    </tr>\n",
       "    <tr>\n",
       "      <th>1</th>\n",
       "      <td>O</td>\n",
       "      <td>0</td>\n",
       "      <td>39.0</td>\n",
       "    </tr>\n",
       "    <tr>\n",
       "      <th>2</th>\n",
       "      <td>10</td>\n",
       "      <td>0</td>\n",
       "      <td>37.0</td>\n",
       "    </tr>\n",
       "    <tr>\n",
       "      <th>3</th>\n",
       "      <td>10</td>\n",
       "      <td>0</td>\n",
       "      <td>38.0</td>\n",
       "    </tr>\n",
       "    <tr>\n",
       "      <th>4</th>\n",
       "      <td>3</td>\n",
       "      <td>0</td>\n",
       "      <td>NaN</td>\n",
       "    </tr>\n",
       "    <tr>\n",
       "      <th>...</th>\n",
       "      <td>...</td>\n",
       "      <td>...</td>\n",
       "      <td>...</td>\n",
       "    </tr>\n",
       "    <tr>\n",
       "      <th>3145</th>\n",
       "      <td>21</td>\n",
       "      <td>0</td>\n",
       "      <td>19.0</td>\n",
       "    </tr>\n",
       "    <tr>\n",
       "      <th>3146</th>\n",
       "      <td>17</td>\n",
       "      <td>0</td>\n",
       "      <td>17.0</td>\n",
       "    </tr>\n",
       "    <tr>\n",
       "      <th>3147</th>\n",
       "      <td>13</td>\n",
       "      <td>0</td>\n",
       "      <td>18.0</td>\n",
       "    </tr>\n",
       "    <tr>\n",
       "      <th>3148</th>\n",
       "      <td>7</td>\n",
       "      <td>0</td>\n",
       "      <td>11.0</td>\n",
       "    </tr>\n",
       "    <tr>\n",
       "      <th>3149</th>\n",
       "      <td>8</td>\n",
       "      <td>1</td>\n",
       "      <td>11.0</td>\n",
       "    </tr>\n",
       "  </tbody>\n",
       "</table>\n",
       "<p>3150 rows × 3 columns</p>\n",
       "</div>"
      ],
      "text/plain": [
       "     call_failure complains  subs_len\n",
       "0               8         0      38.0\n",
       "1               O         0      39.0\n",
       "2              10         0      37.0\n",
       "3              10         0      38.0\n",
       "4               3         0       NaN\n",
       "...           ...       ...       ...\n",
       "3145           21         0      19.0\n",
       "3146           17         0      17.0\n",
       "3147           13         0      18.0\n",
       "3148            7         0      11.0\n",
       "3149            8         1      11.0\n",
       "\n",
       "[3150 rows x 3 columns]"
      ]
     },
     "execution_count": 159,
     "metadata": {},
     "output_type": "execute_result"
    }
   ],
   "source": [
    "#filter out the 3 columns from the dataframe\n",
    "cols_3 = churn_df[['call_failure', 'complains', 'subs_len']]\n",
    "\n",
    "cols_3"
   ]
  },
  {
   "cell_type": "code",
   "execution_count": 160,
   "id": "96fe05b8",
   "metadata": {
    "ExecuteTime": {
     "end_time": "2021-11-16T18:56:38.687209Z",
     "start_time": "2021-11-16T18:56:38.665269Z"
    }
   },
   "outputs": [
    {
     "name": "stdout",
     "output_type": "stream",
     "text": [
      "<class 'pandas.core.frame.DataFrame'>\n",
      "RangeIndex: 3150 entries, 0 to 3149\n",
      "Data columns (total 3 columns):\n",
      " #   Column        Non-Null Count  Dtype  \n",
      "---  ------        --------------  -----  \n",
      " 0   call_failure  3138 non-null   object \n",
      " 1   complains     3137 non-null   object \n",
      " 2   subs_len      3145 non-null   float64\n",
      "dtypes: float64(1), object(2)\n",
      "memory usage: 74.0+ KB\n"
     ]
    }
   ],
   "source": [
    "cols_3.info()\n"
   ]
  },
  {
   "cell_type": "code",
   "execution_count": 161,
   "id": "b197671f",
   "metadata": {
    "ExecuteTime": {
     "end_time": "2021-11-16T18:56:39.767977Z",
     "start_time": "2021-11-16T18:56:39.753018Z"
    }
   },
   "outputs": [
    {
     "data": {
      "text/html": [
       "<div>\n",
       "<style scoped>\n",
       "    .dataframe tbody tr th:only-of-type {\n",
       "        vertical-align: middle;\n",
       "    }\n",
       "\n",
       "    .dataframe tbody tr th {\n",
       "        vertical-align: top;\n",
       "    }\n",
       "\n",
       "    .dataframe thead th {\n",
       "        text-align: right;\n",
       "    }\n",
       "</style>\n",
       "<table border=\"1\" class=\"dataframe\">\n",
       "  <thead>\n",
       "    <tr style=\"text-align: right;\">\n",
       "      <th></th>\n",
       "      <th>subs_len</th>\n",
       "    </tr>\n",
       "  </thead>\n",
       "  <tbody>\n",
       "    <tr>\n",
       "      <th>count</th>\n",
       "      <td>3145.000000</td>\n",
       "    </tr>\n",
       "    <tr>\n",
       "      <th>mean</th>\n",
       "      <td>32.333229</td>\n",
       "    </tr>\n",
       "    <tr>\n",
       "      <th>std</th>\n",
       "      <td>9.346742</td>\n",
       "    </tr>\n",
       "    <tr>\n",
       "      <th>min</th>\n",
       "      <td>-40.000000</td>\n",
       "    </tr>\n",
       "    <tr>\n",
       "      <th>25%</th>\n",
       "      <td>29.000000</td>\n",
       "    </tr>\n",
       "    <tr>\n",
       "      <th>50%</th>\n",
       "      <td>35.000000</td>\n",
       "    </tr>\n",
       "    <tr>\n",
       "      <th>75%</th>\n",
       "      <td>38.000000</td>\n",
       "    </tr>\n",
       "    <tr>\n",
       "      <th>max</th>\n",
       "      <td>47.000000</td>\n",
       "    </tr>\n",
       "  </tbody>\n",
       "</table>\n",
       "</div>"
      ],
      "text/plain": [
       "          subs_len\n",
       "count  3145.000000\n",
       "mean     32.333229\n",
       "std       9.346742\n",
       "min     -40.000000\n",
       "25%      29.000000\n",
       "50%      35.000000\n",
       "75%      38.000000\n",
       "max      47.000000"
      ]
     },
     "execution_count": 161,
     "metadata": {},
     "output_type": "execute_result"
    }
   ],
   "source": [
    "cols_3.describe()"
   ]
  },
  {
   "cell_type": "markdown",
   "id": "51456581",
   "metadata": {},
   "source": [
    "### Check for null values"
   ]
  },
  {
   "cell_type": "code",
   "execution_count": 162,
   "id": "b4cc162c",
   "metadata": {
    "ExecuteTime": {
     "end_time": "2021-11-16T18:56:41.932610Z",
     "start_time": "2021-11-16T18:56:41.919623Z"
    }
   },
   "outputs": [
    {
     "data": {
      "text/plain": [
       "call_failure    12\n",
       "complains       13\n",
       "subs_len         5\n",
       "dtype: int64"
      ]
     },
     "execution_count": 162,
     "metadata": {},
     "output_type": "execute_result"
    }
   ],
   "source": [
    "#check for null values in \n",
    "cols_3.isna().sum()"
   ]
  },
  {
   "cell_type": "markdown",
   "id": "b55756fc",
   "metadata": {
    "ExecuteTime": {
     "end_time": "2021-11-10T00:48:19.016069Z",
     "start_time": "2021-11-10T00:48:18.820566Z"
    }
   },
   "source": [
    "Observation : \n",
    "\n",
    "12 null values in call_failure,\n",
    "\n",
    "13 null values in complains,\n",
    "\n",
    "5 null values in subs_len"
   ]
  },
  {
   "cell_type": "markdown",
   "id": "451ce3bc",
   "metadata": {},
   "source": [
    "### Data cleaning"
   ]
  },
  {
   "cell_type": "code",
   "execution_count": null,
   "id": "889287ff",
   "metadata": {},
   "outputs": [],
   "source": []
  },
  {
   "cell_type": "code",
   "execution_count": 163,
   "id": "41d9825a",
   "metadata": {
    "ExecuteTime": {
     "end_time": "2021-11-16T18:56:43.788438Z",
     "start_time": "2021-11-16T18:56:43.767376Z"
    }
   },
   "outputs": [
    {
     "data": {
      "text/plain": [
       "0             664\n",
       "5             244\n",
       "7             166\n",
       "6             161\n",
       "8             156\n",
       "9             149\n",
       "3             140\n",
       "2             137\n",
       "4             133\n",
       "11            125\n",
       "10            124\n",
       "1             121\n",
       "13             99\n",
       "12             97\n",
       "14             85\n",
       "15             69\n",
       "16             67\n",
       "18             53\n",
       "17             45\n",
       "20             37\n",
       "19             33\n",
       "21             29\n",
       "23             25\n",
       "25             21\n",
       "22             21\n",
       "28             17\n",
       "26             17\n",
       "30             16\n",
       "24             16\n",
       "27             13\n",
       "O              13\n",
       "32              8\n",
       "29              7\n",
       "31              6\n",
       "o               4\n",
       "-0.0000009      4\n",
       "34              3\n",
       "33              3\n",
       "35              2\n",
       "36              2\n",
       "3$^             1\n",
       "0.05            1\n",
       "0.000001        1\n",
       "O'              1\n",
       "ooo             1\n",
       "-0.05           1\n",
       "Name: call_failure, dtype: int64"
      ]
     },
     "execution_count": 163,
     "metadata": {},
     "output_type": "execute_result"
    }
   ],
   "source": [
    "cols_3['call_failure'].value_counts()"
   ]
  },
  {
   "cell_type": "markdown",
   "id": "b9ab64cf",
   "metadata": {},
   "source": [
    "**Observation:** Since the data is not consistent, we'll replace these values"
   ]
  },
  {
   "cell_type": "code",
   "execution_count": 164,
   "id": "a6a57e46",
   "metadata": {
    "ExecuteTime": {
     "end_time": "2021-11-16T18:56:45.844341Z",
     "start_time": "2021-11-16T18:56:45.823397Z"
    }
   },
   "outputs": [
    {
     "name": "stderr",
     "output_type": "stream",
     "text": [
      "D:\\IDEs\\Anaconda\\lib\\site-packages\\ipykernel_launcher.py:1: SettingWithCopyWarning: \n",
      "A value is trying to be set on a copy of a slice from a DataFrame.\n",
      "Try using .loc[row_indexer,col_indexer] = value instead\n",
      "\n",
      "See the caveats in the documentation: https://pandas.pydata.org/pandas-docs/stable/user_guide/indexing.html#returning-a-view-versus-a-copy\n",
      "  \"\"\"Entry point for launching an IPython kernel.\n"
     ]
    }
   ],
   "source": [
    "cols_3['call_failure'] = pd.to_numeric(cols_3['call_failure'].astype(str).str.replace(',',''), errors='coerce').fillna(0).astype(int)"
   ]
  },
  {
   "cell_type": "code",
   "execution_count": 165,
   "id": "3c5f4e1a",
   "metadata": {
    "ExecuteTime": {
     "end_time": "2021-11-16T18:56:46.774699Z",
     "start_time": "2021-11-16T18:56:46.767719Z"
    }
   },
   "outputs": [
    {
     "name": "stderr",
     "output_type": "stream",
     "text": [
      "D:\\IDEs\\Anaconda\\lib\\site-packages\\pandas\\core\\generic.py:6619: SettingWithCopyWarning: \n",
      "A value is trying to be set on a copy of a slice from a DataFrame\n",
      "\n",
      "See the caveats in the documentation: https://pandas.pydata.org/pandas-docs/stable/user_guide/indexing.html#returning-a-view-versus-a-copy\n",
      "  return self._update_inplace(result)\n"
     ]
    }
   ],
   "source": [
    "#replace null values with 0\n",
    "cols_3[\"call_failure\"].replace(np.nan, 0, inplace=True )"
   ]
  },
  {
   "cell_type": "code",
   "execution_count": 166,
   "id": "6acec356",
   "metadata": {
    "ExecuteTime": {
     "end_time": "2021-11-16T18:56:47.117659Z",
     "start_time": "2021-11-16T18:56:47.097715Z"
    }
   },
   "outputs": [
    {
     "data": {
      "text/plain": [
       "0            2859\n",
       "1             231\n",
       "OO             18\n",
       "o              12\n",
       "O               7\n",
       "-1              4\n",
       "11              1\n",
       "-112            1\n",
       "-11             1\n",
       "1999            1\n",
       "18-             1\n",
       "111111111       1\n",
       "Name: complains, dtype: int64"
      ]
     },
     "execution_count": 166,
     "metadata": {},
     "output_type": "execute_result"
    }
   ],
   "source": [
    "cols_3['complains'].value_counts()"
   ]
  },
  {
   "cell_type": "markdown",
   "id": "ba7d623a",
   "metadata": {
    "ExecuteTime": {
     "end_time": "2021-11-16T17:57:15.513729Z",
     "start_time": "2021-11-16T17:57:15.500763Z"
    }
   },
   "source": [
    " **Observation:** Since complains is boolean type we will chave to replace with weither 0 or 1"
   ]
  },
  {
   "cell_type": "code",
   "execution_count": 167,
   "id": "a3250047",
   "metadata": {
    "ExecuteTime": {
     "end_time": "2021-11-16T18:56:48.504472Z",
     "start_time": "2021-11-16T18:56:48.487519Z"
    }
   },
   "outputs": [
    {
     "name": "stderr",
     "output_type": "stream",
     "text": [
      "D:\\IDEs\\Anaconda\\lib\\site-packages\\ipykernel_launcher.py:1: SettingWithCopyWarning: \n",
      "A value is trying to be set on a copy of a slice from a DataFrame.\n",
      "Try using .loc[row_indexer,col_indexer] = value instead\n",
      "\n",
      "See the caveats in the documentation: https://pandas.pydata.org/pandas-docs/stable/user_guide/indexing.html#returning-a-view-versus-a-copy\n",
      "  \"\"\"Entry point for launching an IPython kernel.\n"
     ]
    }
   ],
   "source": [
    "cols_3['complains'] = pd.to_numeric(cols_3['complains'].astype(str), errors='coerce').fillna(0).astype(int)"
   ]
  },
  {
   "cell_type": "code",
   "execution_count": 168,
   "id": "8de695d4",
   "metadata": {
    "ExecuteTime": {
     "end_time": "2021-11-16T18:56:49.346900Z",
     "start_time": "2021-11-16T18:56:49.327952Z"
    }
   },
   "outputs": [
    {
     "data": {
      "text/plain": [
       " 0            2910\n",
       " 1             231\n",
       "-1               4\n",
       " 11              1\n",
       "-112             1\n",
       "-11              1\n",
       " 1999            1\n",
       " 111111111       1\n",
       "Name: complains, dtype: int64"
      ]
     },
     "execution_count": 168,
     "metadata": {},
     "output_type": "execute_result"
    }
   ],
   "source": [
    "cols_3['complains'].value_counts()"
   ]
  },
  {
   "cell_type": "code",
   "execution_count": 169,
   "id": "fd5b4c40",
   "metadata": {
    "ExecuteTime": {
     "end_time": "2021-11-16T18:56:50.857401Z",
     "start_time": "2021-11-16T18:56:50.848392Z"
    }
   },
   "outputs": [
    {
     "name": "stderr",
     "output_type": "stream",
     "text": [
      "D:\\IDEs\\Anaconda\\lib\\site-packages\\pandas\\core\\indexing.py:1817: SettingWithCopyWarning: \n",
      "A value is trying to be set on a copy of a slice from a DataFrame.\n",
      "Try using .loc[row_indexer,col_indexer] = value instead\n",
      "\n",
      "See the caveats in the documentation: https://pandas.pydata.org/pandas-docs/stable/user_guide/indexing.html#returning-a-view-versus-a-copy\n",
      "  self._setitem_single_column(loc, value, pi)\n"
     ]
    }
   ],
   "source": [
    "cols_3.loc[cols_3['complains'] != 0, 'complains'] = 1"
   ]
  },
  {
   "cell_type": "code",
   "execution_count": 170,
   "id": "e529ea0d",
   "metadata": {
    "ExecuteTime": {
     "end_time": "2021-11-16T18:56:51.900655Z",
     "start_time": "2021-11-16T18:56:51.887657Z"
    }
   },
   "outputs": [
    {
     "data": {
      "text/plain": [
       "0    2910\n",
       "1     240\n",
       "Name: complains, dtype: int64"
      ]
     },
     "execution_count": 170,
     "metadata": {},
     "output_type": "execute_result"
    }
   ],
   "source": [
    "# Verification\n",
    "cols_3['complains'].value_counts()"
   ]
  },
  {
   "cell_type": "code",
   "execution_count": 171,
   "id": "083959fd",
   "metadata": {
    "ExecuteTime": {
     "end_time": "2021-11-16T18:56:52.616675Z",
     "start_time": "2021-11-16T18:56:52.607772Z"
    }
   },
   "outputs": [],
   "source": [
    "#replace all the null values with 1\n",
    "cols_3[\"call_failure\"].replace(np.nan, 1, inplace=True )"
   ]
  },
  {
   "cell_type": "code",
   "execution_count": 172,
   "id": "bcede6ea",
   "metadata": {
    "ExecuteTime": {
     "end_time": "2021-11-16T18:56:53.802595Z",
     "start_time": "2021-11-16T18:56:53.786339Z"
    }
   },
   "outputs": [
    {
     "data": {
      "text/plain": [
       " 36.0000    272\n",
       " 38.0000    257\n",
       " 37.0000    226\n",
       " 35.0000    225\n",
       " 34.0000    201\n",
       " 39.0000    198\n",
       " 40.0000    182\n",
       " 33.0000    152\n",
       " 32.0000    121\n",
       " 41.0000    110\n",
       " 31.0000    104\n",
       " 30.0000     80\n",
       " 42.0000     80\n",
       " 29.0000     73\n",
       " 28.0000     59\n",
       " 27.0000     56\n",
       " 43.0000     56\n",
       " 25.0000     52\n",
       " 26.0000     45\n",
       " 44.0000     44\n",
       " 24.0000     40\n",
       " 23.0000     39\n",
       " 17.0000     32\n",
       " 15.0000     31\n",
       " 18.0000     30\n",
       " 16.0000     30\n",
       " 19.0000     29\n",
       " 20.0000     28\n",
       " 22.0000     26\n",
       " 11.0000     26\n",
       " 21.0000     25\n",
       " 14.0000     25\n",
       " 13.0000     24\n",
       " 45.0000     23\n",
       " 9.0000      22\n",
       " 7.0000      19\n",
       " 12.0000     19\n",
       " 10.0000     16\n",
       " 46.0000     13\n",
       " 8.0000      12\n",
       " 3.0000       8\n",
       " 6.0000       8\n",
       " 5.0000       6\n",
       " 4.0000       4\n",
       " 36.0009      4\n",
       "-35.0000      3\n",
       "-37.0000      3\n",
       "-40.0000      3\n",
       " 39.0010      3\n",
       " 47.0000      1\n",
       "Name: subs_len, dtype: int64"
      ]
     },
     "execution_count": 172,
     "metadata": {},
     "output_type": "execute_result"
    }
   ],
   "source": [
    "#Clean the subscription length column\n",
    "cols_3['subs_len'].value_counts()"
   ]
  },
  {
   "cell_type": "code",
   "execution_count": 173,
   "id": "23cb04a4",
   "metadata": {
    "ExecuteTime": {
     "end_time": "2021-11-16T18:56:55.430520Z",
     "start_time": "2021-11-16T18:56:55.415555Z"
    }
   },
   "outputs": [
    {
     "name": "stderr",
     "output_type": "stream",
     "text": [
      "D:\\IDEs\\Anaconda\\lib\\site-packages\\ipykernel_launcher.py:1: SettingWithCopyWarning: \n",
      "A value is trying to be set on a copy of a slice from a DataFrame.\n",
      "Try using .loc[row_indexer,col_indexer] = value instead\n",
      "\n",
      "See the caveats in the documentation: https://pandas.pydata.org/pandas-docs/stable/user_guide/indexing.html#returning-a-view-versus-a-copy\n",
      "  \"\"\"Entry point for launching an IPython kernel.\n"
     ]
    }
   ],
   "source": [
    "cols_3['subs_len'] = cols_3['subs_len'].abs()"
   ]
  },
  {
   "cell_type": "code",
   "execution_count": 174,
   "id": "621d8467",
   "metadata": {
    "ExecuteTime": {
     "end_time": "2021-11-16T18:56:57.540362Z",
     "start_time": "2021-11-16T18:56:57.529391Z"
    }
   },
   "outputs": [
    {
     "data": {
      "text/plain": [
       "36.0000    272\n",
       "38.0000    257\n",
       "37.0000    229\n",
       "35.0000    228\n",
       "34.0000    201\n",
       "39.0000    198\n",
       "40.0000    185\n",
       "33.0000    152\n",
       "32.0000    121\n",
       "41.0000    110\n",
       "31.0000    104\n",
       "30.0000     80\n",
       "42.0000     80\n",
       "29.0000     73\n",
       "28.0000     59\n",
       "43.0000     56\n",
       "27.0000     56\n",
       "25.0000     52\n",
       "26.0000     45\n",
       "44.0000     44\n",
       "24.0000     40\n",
       "23.0000     39\n",
       "17.0000     32\n",
       "15.0000     31\n",
       "16.0000     30\n",
       "18.0000     30\n",
       "19.0000     29\n",
       "20.0000     28\n",
       "22.0000     26\n",
       "11.0000     26\n",
       "14.0000     25\n",
       "21.0000     25\n",
       "13.0000     24\n",
       "45.0000     23\n",
       "9.0000      22\n",
       "12.0000     19\n",
       "7.0000      19\n",
       "10.0000     16\n",
       "46.0000     13\n",
       "8.0000      12\n",
       "3.0000       8\n",
       "6.0000       8\n",
       "5.0000       6\n",
       "36.0009      4\n",
       "4.0000       4\n",
       "39.0010      3\n",
       "47.0000      1\n",
       "Name: subs_len, dtype: int64"
      ]
     },
     "execution_count": 174,
     "metadata": {},
     "output_type": "execute_result"
    }
   ],
   "source": [
    "cols_3['subs_len'].value_counts()"
   ]
  },
  {
   "cell_type": "code",
   "execution_count": 175,
   "id": "38749eb5",
   "metadata": {
    "ExecuteTime": {
     "end_time": "2021-11-16T18:57:03.692545Z",
     "start_time": "2021-11-16T18:57:03.680614Z"
    }
   },
   "outputs": [
    {
     "name": "stderr",
     "output_type": "stream",
     "text": [
      "D:\\IDEs\\Anaconda\\lib\\site-packages\\pandas\\core\\generic.py:6392: SettingWithCopyWarning: \n",
      "A value is trying to be set on a copy of a slice from a DataFrame\n",
      "\n",
      "See the caveats in the documentation: https://pandas.pydata.org/pandas-docs/stable/user_guide/indexing.html#returning-a-view-versus-a-copy\n",
      "  return self._update_inplace(result)\n"
     ]
    }
   ],
   "source": [
    "cols_3['subs_len'].fillna(value=cols_3['subs_len'].mean(), inplace=True)"
   ]
  },
  {
   "cell_type": "code",
   "execution_count": 178,
   "id": "a60a64f3",
   "metadata": {
    "ExecuteTime": {
     "end_time": "2021-11-16T18:58:01.409057Z",
     "start_time": "2021-11-16T18:58:01.395095Z"
    }
   },
   "outputs": [
    {
     "name": "stderr",
     "output_type": "stream",
     "text": [
      "D:\\IDEs\\Anaconda\\lib\\site-packages\\ipykernel_launcher.py:1: SettingWithCopyWarning: \n",
      "A value is trying to be set on a copy of a slice from a DataFrame.\n",
      "Try using .loc[row_indexer,col_indexer] = value instead\n",
      "\n",
      "See the caveats in the documentation: https://pandas.pydata.org/pandas-docs/stable/user_guide/indexing.html#returning-a-view-versus-a-copy\n",
      "  \"\"\"Entry point for launching an IPython kernel.\n"
     ]
    }
   ],
   "source": [
    "cols_3['subs_len'] = cols_3['subs_len'].astype(int)"
   ]
  },
  {
   "cell_type": "code",
   "execution_count": 179,
   "id": "fee01fa8",
   "metadata": {
    "ExecuteTime": {
     "end_time": "2021-11-16T18:58:03.159284Z",
     "start_time": "2021-11-16T18:58:03.152302Z"
    }
   },
   "outputs": [
    {
     "data": {
      "text/plain": [
       "call_failure    int32\n",
       "complains       int32\n",
       "subs_len        int32\n",
       "dtype: object"
      ]
     },
     "execution_count": 179,
     "metadata": {},
     "output_type": "execute_result"
    }
   ],
   "source": [
    "cols_3.dtypes"
   ]
  },
  {
   "cell_type": "code",
   "execution_count": 180,
   "id": "25c3edb3",
   "metadata": {
    "ExecuteTime": {
     "end_time": "2021-11-16T18:58:06.244718Z",
     "start_time": "2021-11-16T18:58:06.224392Z"
    }
   },
   "outputs": [
    {
     "data": {
      "text/plain": [
       "36    276\n",
       "38    257\n",
       "37    229\n",
       "35    228\n",
       "34    201\n",
       "39    201\n",
       "40    185\n",
       "33    152\n",
       "32    126\n",
       "41    110\n",
       "31    104\n",
       "30     80\n",
       "42     80\n",
       "29     73\n",
       "28     59\n",
       "27     56\n",
       "43     56\n",
       "25     52\n",
       "26     45\n",
       "44     44\n",
       "24     40\n",
       "23     39\n",
       "17     32\n",
       "15     31\n",
       "18     30\n",
       "16     30\n",
       "19     29\n",
       "20     28\n",
       "11     26\n",
       "22     26\n",
       "21     25\n",
       "14     25\n",
       "13     24\n",
       "45     23\n",
       "9      22\n",
       "7      19\n",
       "12     19\n",
       "10     16\n",
       "46     13\n",
       "8      12\n",
       "3       8\n",
       "6       8\n",
       "5       6\n",
       "4       4\n",
       "47      1\n",
       "Name: subs_len, dtype: int64"
      ]
     },
     "execution_count": 180,
     "metadata": {},
     "output_type": "execute_result"
    }
   ],
   "source": [
    "cols_3['subs_len'].value_counts()"
   ]
  },
  {
   "cell_type": "code",
   "execution_count": 181,
   "id": "4f91ec74",
   "metadata": {
    "ExecuteTime": {
     "end_time": "2021-11-16T18:58:14.966375Z",
     "start_time": "2021-11-16T18:58:14.952894Z"
    }
   },
   "outputs": [
    {
     "data": {
      "text/plain": [
       "call_failure    0\n",
       "complains       0\n",
       "subs_len        0\n",
       "dtype: int64"
      ]
     },
     "execution_count": 181,
     "metadata": {},
     "output_type": "execute_result"
    }
   ],
   "source": [
    "# Verification for null values\n",
    "\n",
    "cols_3.isna().sum()"
   ]
  },
  {
   "cell_type": "code",
   "execution_count": null,
   "id": "bf070b4a",
   "metadata": {},
   "source": [
    "** Reading file using pandas read_table function **"
   ]
  },
  {
   "cell_type": "code",
   "execution_count": 10,
   "id": "6ede23bd",
   "metadata": {},
   "outputs": [
    {
     "data": {
      "text/html": [
       "<div>\n",
       "<style scoped>\n",
       "    .dataframe tbody tr th:only-of-type {\n",
       "        vertical-align: middle;\n",
       "    }\n",
       "\n",
       "    .dataframe tbody tr th {\n",
       "        vertical-align: top;\n",
       "    }\n",
       "\n",
       "    .dataframe thead th {\n",
       "        text-align: right;\n",
       "    }\n",
       "</style>\n",
       "<table border=\"1\" class=\"dataframe\">\n",
       "  <thead>\n",
       "    <tr style=\"text-align: right;\">\n",
       "      <th></th>\n",
       "      <th>Call  Failure</th>\n",
       "      <th>Complains</th>\n",
       "      <th>Subscription  Length</th>\n",
       "      <th>Charge  Amount</th>\n",
       "      <th>Seconds of Use</th>\n",
       "      <th>Frequency of use</th>\n",
       "      <th>Frequency of SMS</th>\n",
       "      <th>Distinct Called Numbers</th>\n",
       "      <th>Tariff Plan</th>\n",
       "      <th>Status</th>\n",
       "      <th>Age</th>\n",
       "      <th>Customer Value</th>\n",
       "      <th>FN</th>\n",
       "      <th>FP</th>\n",
       "      <th>Churn</th>\n",
       "    </tr>\n",
       "  </thead>\n",
       "  <tbody>\n",
       "    <tr>\n",
       "      <th>0</th>\n",
       "      <td>8</td>\n",
       "      <td>0</td>\n",
       "      <td>38.0</td>\n",
       "      <td>0</td>\n",
       "      <td>4370</td>\n",
       "      <td>71.0</td>\n",
       "      <td>5.0</td>\n",
       "      <td>17.0</td>\n",
       "      <td>1</td>\n",
       "      <td>1</td>\n",
       "      <td>5</td>\n",
       "      <td>197.640</td>\n",
       "      <td>177.8760</td>\n",
       "      <td>69.7640</td>\n",
       "      <td>0</td>\n",
       "    </tr>\n",
       "    <tr>\n",
       "      <th>1</th>\n",
       "      <td>O</td>\n",
       "      <td>0</td>\n",
       "      <td>39.0</td>\n",
       "      <td>0</td>\n",
       "      <td>NaN</td>\n",
       "      <td>5.0</td>\n",
       "      <td>7.0</td>\n",
       "      <td>4.0</td>\n",
       "      <td>1</td>\n",
       "      <td>1</td>\n",
       "      <td>6</td>\n",
       "      <td>46.035</td>\n",
       "      <td>41.4315</td>\n",
       "      <td>60.0000</td>\n",
       "      <td>0</td>\n",
       "    </tr>\n",
       "    <tr>\n",
       "      <th>2</th>\n",
       "      <td>10</td>\n",
       "      <td>0</td>\n",
       "      <td>37.0</td>\n",
       "      <td>0</td>\n",
       "      <td>2453</td>\n",
       "      <td>60.0</td>\n",
       "      <td>359.0</td>\n",
       "      <td>24.0</td>\n",
       "      <td>1</td>\n",
       "      <td>1</td>\n",
       "      <td>2</td>\n",
       "      <td>1536.520</td>\n",
       "      <td>1382.8680</td>\n",
       "      <td>203.6520</td>\n",
       "      <td>0</td>\n",
       "    </tr>\n",
       "    <tr>\n",
       "      <th>3</th>\n",
       "      <td>10</td>\n",
       "      <td>0</td>\n",
       "      <td>38.0</td>\n",
       "      <td>0</td>\n",
       "      <td>4198</td>\n",
       "      <td>66.0</td>\n",
       "      <td>1.0</td>\n",
       "      <td>35.0</td>\n",
       "      <td>1</td>\n",
       "      <td>1</td>\n",
       "      <td>10</td>\n",
       "      <td>240.020</td>\n",
       "      <td>216.0180</td>\n",
       "      <td>74.0020</td>\n",
       "      <td>0</td>\n",
       "    </tr>\n",
       "    <tr>\n",
       "      <th>4</th>\n",
       "      <td>3</td>\n",
       "      <td>0</td>\n",
       "      <td>NaN</td>\n",
       "      <td>0</td>\n",
       "      <td>2393</td>\n",
       "      <td>58.0</td>\n",
       "      <td>2.0</td>\n",
       "      <td>33.0</td>\n",
       "      <td>1</td>\n",
       "      <td>1</td>\n",
       "      <td>9</td>\n",
       "      <td>145.805</td>\n",
       "      <td>131.2245</td>\n",
       "      <td>64.5805</td>\n",
       "      <td>0</td>\n",
       "    </tr>\n",
       "    <tr>\n",
       "      <th>...</th>\n",
       "      <td>...</td>\n",
       "      <td>...</td>\n",
       "      <td>...</td>\n",
       "      <td>...</td>\n",
       "      <td>...</td>\n",
       "      <td>...</td>\n",
       "      <td>...</td>\n",
       "      <td>...</td>\n",
       "      <td>...</td>\n",
       "      <td>...</td>\n",
       "      <td>...</td>\n",
       "      <td>...</td>\n",
       "      <td>...</td>\n",
       "      <td>...</td>\n",
       "      <td>...</td>\n",
       "    </tr>\n",
       "    <tr>\n",
       "      <th>3145</th>\n",
       "      <td>21</td>\n",
       "      <td>0</td>\n",
       "      <td>19.0</td>\n",
       "      <td>2</td>\n",
       "      <td>6697</td>\n",
       "      <td>147.0</td>\n",
       "      <td>92.0</td>\n",
       "      <td>44.0</td>\n",
       "      <td>2</td>\n",
       "      <td>1</td>\n",
       "      <td>68</td>\n",
       "      <td>721.980</td>\n",
       "      <td>649.7820</td>\n",
       "      <td>122.1980</td>\n",
       "      <td>0</td>\n",
       "    </tr>\n",
       "    <tr>\n",
       "      <th>3146</th>\n",
       "      <td>17</td>\n",
       "      <td>0</td>\n",
       "      <td>17.0</td>\n",
       "      <td>1</td>\n",
       "      <td>9237</td>\n",
       "      <td>177.0</td>\n",
       "      <td>80.0</td>\n",
       "      <td>42.0</td>\n",
       "      <td>1</td>\n",
       "      <td>1</td>\n",
       "      <td>65</td>\n",
       "      <td>261.210</td>\n",
       "      <td>235.0890</td>\n",
       "      <td>76.1210</td>\n",
       "      <td>0</td>\n",
       "    </tr>\n",
       "    <tr>\n",
       "      <th>3147</th>\n",
       "      <td>13</td>\n",
       "      <td>0</td>\n",
       "      <td>18.0</td>\n",
       "      <td>4</td>\n",
       "      <td>3157</td>\n",
       "      <td>-51.0</td>\n",
       "      <td>38.0</td>\n",
       "      <td>21.0</td>\n",
       "      <td>1</td>\n",
       "      <td>1</td>\n",
       "      <td>64</td>\n",
       "      <td>280.320</td>\n",
       "      <td>252.2880</td>\n",
       "      <td>78.0320</td>\n",
       "      <td>0</td>\n",
       "    </tr>\n",
       "    <tr>\n",
       "      <th>3148</th>\n",
       "      <td>7</td>\n",
       "      <td>0</td>\n",
       "      <td>11.0</td>\n",
       "      <td>2</td>\n",
       "      <td>4695</td>\n",
       "      <td>46.0</td>\n",
       "      <td>222.0</td>\n",
       "      <td>12.0</td>\n",
       "      <td>1</td>\n",
       "      <td>1</td>\n",
       "      <td>62</td>\n",
       "      <td>1077.640</td>\n",
       "      <td>969.8760</td>\n",
       "      <td>157.7640</td>\n",
       "      <td>0</td>\n",
       "    </tr>\n",
       "    <tr>\n",
       "      <th>3149</th>\n",
       "      <td>8</td>\n",
       "      <td>1</td>\n",
       "      <td>11.0</td>\n",
       "      <td>2</td>\n",
       "      <td>1792</td>\n",
       "      <td>25.0</td>\n",
       "      <td>7.0</td>\n",
       "      <td>9.0</td>\n",
       "      <td>1</td>\n",
       "      <td>1</td>\n",
       "      <td>68</td>\n",
       "      <td>100.680</td>\n",
       "      <td>90.6120</td>\n",
       "      <td>60.0680</td>\n",
       "      <td>1</td>\n",
       "    </tr>\n",
       "  </tbody>\n",
       "</table>\n",
       "<p>3150 rows × 15 columns</p>\n",
       "</div>"
      ],
      "text/plain": [
       "     Call  Failure Complains  Subscription  Length Charge  Amount  \\\n",
       "0                8         0                  38.0              0   \n",
       "1                O         0                  39.0              0   \n",
       "2               10         0                  37.0              0   \n",
       "3               10         0                  38.0              0   \n",
       "4                3         0                   NaN              0   \n",
       "...            ...       ...                   ...            ...   \n",
       "3145            21         0                  19.0              2   \n",
       "3146            17         0                  17.0              1   \n",
       "3147            13         0                  18.0              4   \n",
       "3148             7         0                  11.0              2   \n",
       "3149             8         1                  11.0              2   \n",
       "\n",
       "     Seconds of Use  Frequency of use  Frequency of SMS  \\\n",
       "0              4370              71.0               5.0   \n",
       "1               NaN               5.0               7.0   \n",
       "2              2453              60.0             359.0   \n",
       "3              4198              66.0               1.0   \n",
       "4              2393              58.0               2.0   \n",
       "...             ...               ...               ...   \n",
       "3145           6697             147.0              92.0   \n",
       "3146           9237             177.0              80.0   \n",
       "3147           3157             -51.0              38.0   \n",
       "3148           4695              46.0             222.0   \n",
       "3149           1792              25.0               7.0   \n",
       "\n",
       "      Distinct Called Numbers  Tariff Plan  Status  Age  Customer Value  \\\n",
       "0                        17.0            1       1    5         197.640   \n",
       "1                         4.0            1       1    6          46.035   \n",
       "2                        24.0            1       1    2        1536.520   \n",
       "3                        35.0            1       1   10         240.020   \n",
       "4                        33.0            1       1    9         145.805   \n",
       "...                       ...          ...     ...  ...             ...   \n",
       "3145                     44.0            2       1   68         721.980   \n",
       "3146                     42.0            1       1   65         261.210   \n",
       "3147                     21.0            1       1   64         280.320   \n",
       "3148                     12.0            1       1   62        1077.640   \n",
       "3149                      9.0            1       1   68         100.680   \n",
       "\n",
       "             FN        FP  Churn  \n",
       "0      177.8760   69.7640      0  \n",
       "1       41.4315   60.0000      0  \n",
       "2     1382.8680  203.6520      0  \n",
       "3      216.0180   74.0020      0  \n",
       "4      131.2245   64.5805      0  \n",
       "...         ...       ...    ...  \n",
       "3145   649.7820  122.1980      0  \n",
       "3146   235.0890   76.1210      0  \n",
       "3147   252.2880   78.0320      0  \n",
       "3148   969.8760  157.7640      0  \n",
       "3149    90.6120   60.0680      1  \n",
       "\n",
       "[3150 rows x 15 columns]"
      ]
     },
     "metadata": {},
     "output_type": "display_data"
    }
   ],
   "source": [
    "df = pd.read_csv('../data/Customer_churn_raw.csv')\n",
    "display(df)\n",
    "    \n",
    "  "
   ]
  },
  {
   "cell_type": "markdown",
   "id": "7cbb83fa",
   "metadata": {},
   "source": [
    "** Check number of null values in each columns **"
   ]
  },
  {
   "cell_type": "code",
   "execution_count": 14,
   "id": "21c334a0",
   "metadata": {},
   "outputs": [
    {
     "data": {
      "text/plain": [
       "0"
      ]
     },
     "execution_count": 14,
     "metadata": {},
     "output_type": "execute_result"
    }
   ],
   "source": [
    "df['Customer Value'].isnull().sum()\n",
    "    "
   ]
  },
  {
   "cell_type": "markdown",
   "id": "1243d7d1",
   "metadata": {},
   "source": [
    "** Replace null values **"
   ]
  },
  {
   "cell_type": "code",
   "execution_count": 15,
   "id": "59ac1f1b",
   "metadata": {
    "scrolled": true
   },
   "outputs": [
    {
     "data": {
      "text/plain": [
       "0"
      ]
     },
     "execution_count": 15,
     "metadata": {},
     "output_type": "execute_result"
    }
   ],
   "source": [
    "df[\"Customer Value\"].replace(np.nan, 0, inplace=True )\n",
    "df['Customer Value'].isnull().sum()"
   ]
  },
  {
   "cell_type": "markdown",
   "id": "b4565a4b",
   "metadata": {},
   "source": [
    "** Correlation with 'Customer value' and 'Churn'**"
   ]
  },
  {
   "cell_type": "code",
   "execution_count": 16,
   "id": "d33c6064",
   "metadata": {},
   "outputs": [
    {
     "data": {
      "image/png": "[encoded data removed]",
      "text/plain": [
       "<Figure size 432x288 with 2 Axes>"
      ]
     },
     "metadata": {
      "needs_background": "light"
     },
     "output_type": "display_data"
    }
   ],
   "source": [
    "df = pd.DataFrame(df, columns=['Customer Value','Churn'])\n",
    "corrMatrix = df.corr()\n",
    "sn.heatmap(corrMatrix, annot=True)\n",
    "plt.show()\n",
    "    "
   ]
  },
  {
   "cell_type": "code",
   "execution_count": null,
   "id": "47b0f4ef",
   "metadata": {
    "scrolled": true
   },
   "outputs": [],
   "source": []
  }
 ],
 "metadata": {
  "kernelspec": {
   "display_name": "Python 3",
   "language": "python",
   "name": "python3"
  },
  "language_info": {
   "codemirror_mode": {
    "name": "ipython",
    "version": 3
   },
   "file_extension": ".py",
   "mimetype": "text/x-python",
   "name": "python",
   "nbconvert_exporter": "python",
   "pygments_lexer": "ipython3",
   "version": "3.8.8"
  }
 },
 "nbformat": 4,
 "nbformat_minor": 5
}
