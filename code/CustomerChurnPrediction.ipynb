{
 "cells": [
  {
   "cell_type": "markdown",
   "id": "9ccec4c3",
   "metadata": {},
   "source": [
    "# Customer Churn Analysis\n",
    "### Team-5\n",
    "#### Aishwarya Paruchuri\n",
    "#### Archita Chakraborty\n",
    "#### Manjushree Barike Rajanna\n",
    "#### Rohit Chandra"
   ]
  },
  {
   "cell_type": "markdown",
   "id": "a44dec73",
   "metadata": {},
   "source": [
    " ** Python statements that import the standard libraries **"
   ]
  },
  {
   "cell_type": "code",
   "execution_count": null,
   "id": "7b6a4656",
   "metadata": {
    "ExecuteTime": {
     "end_time": "2021-11-16T18:56:37.129875Z",
     "start_time": "2021-11-16T18:56:37.120889Z"
    }
   },
   "outputs": [],
   "source": [
    "import numpy as np\n",
    "import pandas as pd\n",
    "import seaborn as sn\n",
    "import matplotlib.pyplot as plt\n",
    "import warnings\n",
    "warnings.filterwarnings('ignore')"
   ]
  },
  {
   "cell_type": "code",
   "execution_count": null,
   "id": "1793b1d3",
   "metadata": {
    "ExecuteTime": {
     "end_time": "2021-11-16T18:56:37.438730Z",
     "start_time": "2021-11-16T18:56:37.408813Z"
    }
   },
   "outputs": [],
   "source": [
    "#read the csv file in a dataframe\n",
    "churn_df = pd.read_csv(\"../data/Customer_churn_raw.csv\")\n",
    "\n",
    "churn_df.head()"
   ]
  },
  {
   "cell_type": "code",
   "execution_count": 3,
   "id": "ae70cf1c",
   "metadata": {
    "ExecuteTime": {
     "end_time": "2021-11-16T18:56:37.642788Z",
     "start_time": "2021-11-16T18:56:37.623840Z"
    }
   },
   "outputs": [],
   "source": [
    "#rename the columns\n",
    "churn_df=churn_df.rename(columns={\"Call  Failure\": \"call_failure\", \"Complains\": \"complains\", \"Subscription  Length\": \"subs_len\", \"Charge  Amount\": \"charge_amount\",\n",
    "                   \"Seconds of Use\": \"seconds_of_use\", \"Frequency of use\": \"freq_of_use\", \"Frequency of SMS\": \"freq_of_sms\", \"Distinct Called Numbers\": \"distinct_call_nums\",\n",
    "                   \"Age Group\": \"age_group\", \"Tariff Plan\": \"tariff_plan\", \"Status\": \"status\", \"Age\": \"age\", \"Customer Value\": \"customer_value\"})"
   ]
  },
  {
   "cell_type": "code",
   "execution_count": 4,
   "id": "5ba01586",
   "metadata": {
    "ExecuteTime": {
     "end_time": "2021-11-16T18:56:37.813104Z",
     "start_time": "2021-11-16T18:56:37.793177Z"
    }
   },
   "outputs": [
    {
     "data": {
      "text/plain": [
       "Index(['call_failure', 'complains', 'subs_len', 'charge_amount',\n",
       "       'seconds_of_use', 'freq_of_use', 'freq_of_sms', 'distinct_call_nums',\n",
       "       'tariff_plan', 'status', 'age', 'customer_value', 'FN', 'FP', 'Churn'],\n",
       "      dtype='object')"
      ]
     },
     "execution_count": 4,
     "metadata": {},
     "output_type": "execute_result"
    }
   ],
   "source": [
    "#print the columns\n",
    "churn_df.columns"
   ]
  },
  {
   "cell_type": "markdown",
   "id": "9b06d71a",
   "metadata": {},
   "source": [
    "## Exploratory Data Analysis"
   ]
  },
  {
   "cell_type": "code",
   "execution_count": 5,
   "id": "9dee4698",
   "metadata": {
    "ExecuteTime": {
     "end_time": "2021-11-16T18:56:38.205306Z",
     "start_time": "2021-11-16T18:56:38.184362Z"
    }
   },
   "outputs": [
    {
     "data": {
      "text/html": [
       "<div>\n",
       "<style scoped>\n",
       "    .dataframe tbody tr th:only-of-type {\n",
       "        vertical-align: middle;\n",
       "    }\n",
       "\n",
       "    .dataframe tbody tr th {\n",
       "        vertical-align: top;\n",
       "    }\n",
       "\n",
       "    .dataframe thead th {\n",
       "        text-align: right;\n",
       "    }\n",
       "</style>\n",
       "<table border=\"1\" class=\"dataframe\">\n",
       "  <thead>\n",
       "    <tr style=\"text-align: right;\">\n",
       "      <th></th>\n",
       "      <th>call_failure</th>\n",
       "      <th>complains</th>\n",
       "      <th>subs_len</th>\n",
       "    </tr>\n",
       "  </thead>\n",
       "  <tbody>\n",
       "    <tr>\n",
       "      <th>0</th>\n",
       "      <td>8</td>\n",
       "      <td>0</td>\n",
       "      <td>38.0</td>\n",
       "    </tr>\n",
       "    <tr>\n",
       "      <th>1</th>\n",
       "      <td>O</td>\n",
       "      <td>0</td>\n",
       "      <td>39.0</td>\n",
       "    </tr>\n",
       "    <tr>\n",
       "      <th>2</th>\n",
       "      <td>10</td>\n",
       "      <td>0</td>\n",
       "      <td>37.0</td>\n",
       "    </tr>\n",
       "    <tr>\n",
       "      <th>3</th>\n",
       "      <td>10</td>\n",
       "      <td>0</td>\n",
       "      <td>38.0</td>\n",
       "    </tr>\n",
       "    <tr>\n",
       "      <th>4</th>\n",
       "      <td>3</td>\n",
       "      <td>0</td>\n",
       "      <td>NaN</td>\n",
       "    </tr>\n",
       "    <tr>\n",
       "      <th>5</th>\n",
       "      <td>11</td>\n",
       "      <td>0</td>\n",
       "      <td>38.0</td>\n",
       "    </tr>\n",
       "    <tr>\n",
       "      <th>6</th>\n",
       "      <td>4</td>\n",
       "      <td>0</td>\n",
       "      <td>38.0</td>\n",
       "    </tr>\n",
       "    <tr>\n",
       "      <th>7</th>\n",
       "      <td>13</td>\n",
       "      <td>0</td>\n",
       "      <td>37.0</td>\n",
       "    </tr>\n",
       "    <tr>\n",
       "      <th>8</th>\n",
       "      <td>7</td>\n",
       "      <td>0</td>\n",
       "      <td>38.0</td>\n",
       "    </tr>\n",
       "    <tr>\n",
       "      <th>9</th>\n",
       "      <td>7</td>\n",
       "      <td>0</td>\n",
       "      <td>38.0</td>\n",
       "    </tr>\n",
       "    <tr>\n",
       "      <th>10</th>\n",
       "      <td>6</td>\n",
       "      <td>0</td>\n",
       "      <td>38.0</td>\n",
       "    </tr>\n",
       "    <tr>\n",
       "      <th>11</th>\n",
       "      <td>9</td>\n",
       "      <td>0</td>\n",
       "      <td>38.0</td>\n",
       "    </tr>\n",
       "    <tr>\n",
       "      <th>12</th>\n",
       "      <td>25</td>\n",
       "      <td>0</td>\n",
       "      <td>38.0</td>\n",
       "    </tr>\n",
       "    <tr>\n",
       "      <th>13</th>\n",
       "      <td>4</td>\n",
       "      <td>0</td>\n",
       "      <td>38.0</td>\n",
       "    </tr>\n",
       "    <tr>\n",
       "      <th>14</th>\n",
       "      <td>9</td>\n",
       "      <td>0</td>\n",
       "      <td>37.0</td>\n",
       "    </tr>\n",
       "    <tr>\n",
       "      <th>15</th>\n",
       "      <td>3</td>\n",
       "      <td>0</td>\n",
       "      <td>37.0</td>\n",
       "    </tr>\n",
       "    <tr>\n",
       "      <th>16</th>\n",
       "      <td>0</td>\n",
       "      <td>0</td>\n",
       "      <td>37.0</td>\n",
       "    </tr>\n",
       "    <tr>\n",
       "      <th>17</th>\n",
       "      <td>2</td>\n",
       "      <td>0</td>\n",
       "      <td>38.0</td>\n",
       "    </tr>\n",
       "    <tr>\n",
       "      <th>18</th>\n",
       "      <td>0</td>\n",
       "      <td>0</td>\n",
       "      <td>37.0</td>\n",
       "    </tr>\n",
       "    <tr>\n",
       "      <th>19</th>\n",
       "      <td>3</td>\n",
       "      <td>0</td>\n",
       "      <td>-37.0</td>\n",
       "    </tr>\n",
       "    <tr>\n",
       "      <th>20</th>\n",
       "      <td>7</td>\n",
       "      <td>0</td>\n",
       "      <td>-37.0</td>\n",
       "    </tr>\n",
       "    <tr>\n",
       "      <th>21</th>\n",
       "      <td>8</td>\n",
       "      <td>0</td>\n",
       "      <td>-37.0</td>\n",
       "    </tr>\n",
       "    <tr>\n",
       "      <th>22</th>\n",
       "      <td>23</td>\n",
       "      <td>1</td>\n",
       "      <td>33.0</td>\n",
       "    </tr>\n",
       "    <tr>\n",
       "      <th>23</th>\n",
       "      <td>21</td>\n",
       "      <td>-1</td>\n",
       "      <td>36.0</td>\n",
       "    </tr>\n",
       "    <tr>\n",
       "      <th>24</th>\n",
       "      <td>13</td>\n",
       "      <td>1</td>\n",
       "      <td>36.0</td>\n",
       "    </tr>\n",
       "    <tr>\n",
       "      <th>25</th>\n",
       "      <td>1</td>\n",
       "      <td>0</td>\n",
       "      <td>34.0</td>\n",
       "    </tr>\n",
       "    <tr>\n",
       "      <th>26</th>\n",
       "      <td>9</td>\n",
       "      <td>0</td>\n",
       "      <td>35.0</td>\n",
       "    </tr>\n",
       "    <tr>\n",
       "      <th>27</th>\n",
       "      <td>9</td>\n",
       "      <td>1</td>\n",
       "      <td>36.0</td>\n",
       "    </tr>\n",
       "    <tr>\n",
       "      <th>28</th>\n",
       "      <td>0</td>\n",
       "      <td>0</td>\n",
       "      <td>36.0</td>\n",
       "    </tr>\n",
       "    <tr>\n",
       "      <th>29</th>\n",
       "      <td>1</td>\n",
       "      <td>0</td>\n",
       "      <td>36.0</td>\n",
       "    </tr>\n",
       "    <tr>\n",
       "      <th>...</th>\n",
       "      <td>...</td>\n",
       "      <td>...</td>\n",
       "      <td>...</td>\n",
       "    </tr>\n",
       "    <tr>\n",
       "      <th>3120</th>\n",
       "      <td>12</td>\n",
       "      <td>0</td>\n",
       "      <td>39.0</td>\n",
       "    </tr>\n",
       "    <tr>\n",
       "      <th>3121</th>\n",
       "      <td>13</td>\n",
       "      <td>0</td>\n",
       "      <td>39.0</td>\n",
       "    </tr>\n",
       "    <tr>\n",
       "      <th>3122</th>\n",
       "      <td>28</td>\n",
       "      <td>1</td>\n",
       "      <td>35.0</td>\n",
       "    </tr>\n",
       "    <tr>\n",
       "      <th>3123</th>\n",
       "      <td>26</td>\n",
       "      <td>0</td>\n",
       "      <td>38.0</td>\n",
       "    </tr>\n",
       "    <tr>\n",
       "      <th>3124</th>\n",
       "      <td>18</td>\n",
       "      <td>0</td>\n",
       "      <td>38.0</td>\n",
       "    </tr>\n",
       "    <tr>\n",
       "      <th>3125</th>\n",
       "      <td>6</td>\n",
       "      <td>0</td>\n",
       "      <td>36.0</td>\n",
       "    </tr>\n",
       "    <tr>\n",
       "      <th>3126</th>\n",
       "      <td>14</td>\n",
       "      <td>1</td>\n",
       "      <td>37.0</td>\n",
       "    </tr>\n",
       "    <tr>\n",
       "      <th>3127</th>\n",
       "      <td>14</td>\n",
       "      <td>1</td>\n",
       "      <td>38.0</td>\n",
       "    </tr>\n",
       "    <tr>\n",
       "      <th>3128</th>\n",
       "      <td>5</td>\n",
       "      <td>0</td>\n",
       "      <td>38.0</td>\n",
       "    </tr>\n",
       "    <tr>\n",
       "      <th>3129</th>\n",
       "      <td>6</td>\n",
       "      <td>0</td>\n",
       "      <td>38.0</td>\n",
       "    </tr>\n",
       "    <tr>\n",
       "      <th>3130</th>\n",
       "      <td>8</td>\n",
       "      <td>0</td>\n",
       "      <td>35.0</td>\n",
       "    </tr>\n",
       "    <tr>\n",
       "      <th>3131</th>\n",
       "      <td>5</td>\n",
       "      <td>1</td>\n",
       "      <td>38.0</td>\n",
       "    </tr>\n",
       "    <tr>\n",
       "      <th>3132</th>\n",
       "      <td>5</td>\n",
       "      <td>0</td>\n",
       "      <td>38.0</td>\n",
       "    </tr>\n",
       "    <tr>\n",
       "      <th>3133</th>\n",
       "      <td>30</td>\n",
       "      <td>0</td>\n",
       "      <td>33.0</td>\n",
       "    </tr>\n",
       "    <tr>\n",
       "      <th>3134</th>\n",
       "      <td>11</td>\n",
       "      <td>0</td>\n",
       "      <td>36.0</td>\n",
       "    </tr>\n",
       "    <tr>\n",
       "      <th>3135</th>\n",
       "      <td>7</td>\n",
       "      <td>0</td>\n",
       "      <td>38.0</td>\n",
       "    </tr>\n",
       "    <tr>\n",
       "      <th>3136</th>\n",
       "      <td>8</td>\n",
       "      <td>0</td>\n",
       "      <td>37.0</td>\n",
       "    </tr>\n",
       "    <tr>\n",
       "      <th>3137</th>\n",
       "      <td>11</td>\n",
       "      <td>0</td>\n",
       "      <td>38.0</td>\n",
       "    </tr>\n",
       "    <tr>\n",
       "      <th>3138</th>\n",
       "      <td>9</td>\n",
       "      <td>0</td>\n",
       "      <td>29.0</td>\n",
       "    </tr>\n",
       "    <tr>\n",
       "      <th>3139</th>\n",
       "      <td>9</td>\n",
       "      <td>0</td>\n",
       "      <td>28.0</td>\n",
       "    </tr>\n",
       "    <tr>\n",
       "      <th>3140</th>\n",
       "      <td>16</td>\n",
       "      <td>0</td>\n",
       "      <td>29.0</td>\n",
       "    </tr>\n",
       "    <tr>\n",
       "      <th>3141</th>\n",
       "      <td>5</td>\n",
       "      <td>0</td>\n",
       "      <td>28.0</td>\n",
       "    </tr>\n",
       "    <tr>\n",
       "      <th>3142</th>\n",
       "      <td>15</td>\n",
       "      <td>0</td>\n",
       "      <td>27.0</td>\n",
       "    </tr>\n",
       "    <tr>\n",
       "      <th>3143</th>\n",
       "      <td>7</td>\n",
       "      <td>0</td>\n",
       "      <td>27.0</td>\n",
       "    </tr>\n",
       "    <tr>\n",
       "      <th>3144</th>\n",
       "      <td>7</td>\n",
       "      <td>0</td>\n",
       "      <td>20.0</td>\n",
       "    </tr>\n",
       "    <tr>\n",
       "      <th>3145</th>\n",
       "      <td>21</td>\n",
       "      <td>0</td>\n",
       "      <td>19.0</td>\n",
       "    </tr>\n",
       "    <tr>\n",
       "      <th>3146</th>\n",
       "      <td>17</td>\n",
       "      <td>0</td>\n",
       "      <td>17.0</td>\n",
       "    </tr>\n",
       "    <tr>\n",
       "      <th>3147</th>\n",
       "      <td>13</td>\n",
       "      <td>0</td>\n",
       "      <td>18.0</td>\n",
       "    </tr>\n",
       "    <tr>\n",
       "      <th>3148</th>\n",
       "      <td>7</td>\n",
       "      <td>0</td>\n",
       "      <td>11.0</td>\n",
       "    </tr>\n",
       "    <tr>\n",
       "      <th>3149</th>\n",
       "      <td>8</td>\n",
       "      <td>1</td>\n",
       "      <td>11.0</td>\n",
       "    </tr>\n",
       "  </tbody>\n",
       "</table>\n",
       "<p>3150 rows × 3 columns</p>\n",
       "</div>"
      ],
      "text/plain": [
       "     call_failure complains  subs_len\n",
       "0               8         0      38.0\n",
       "1               O         0      39.0\n",
       "2              10         0      37.0\n",
       "3              10         0      38.0\n",
       "4               3         0       NaN\n",
       "5              11         0      38.0\n",
       "6               4         0      38.0\n",
       "7              13         0      37.0\n",
       "8               7         0      38.0\n",
       "9               7         0      38.0\n",
       "10              6         0      38.0\n",
       "11              9         0      38.0\n",
       "12             25         0      38.0\n",
       "13              4         0      38.0\n",
       "14              9         0      37.0\n",
       "15              3         0      37.0\n",
       "16              0         0      37.0\n",
       "17              2         0      38.0\n",
       "18              0         0      37.0\n",
       "19              3         0     -37.0\n",
       "20              7         0     -37.0\n",
       "21              8         0     -37.0\n",
       "22             23         1      33.0\n",
       "23             21        -1      36.0\n",
       "24             13         1      36.0\n",
       "25              1         0      34.0\n",
       "26              9         0      35.0\n",
       "27              9         1      36.0\n",
       "28              0         0      36.0\n",
       "29              1         0      36.0\n",
       "...           ...       ...       ...\n",
       "3120           12         0      39.0\n",
       "3121           13         0      39.0\n",
       "3122           28         1      35.0\n",
       "3123           26         0      38.0\n",
       "3124           18         0      38.0\n",
       "3125            6         0      36.0\n",
       "3126           14         1      37.0\n",
       "3127           14         1      38.0\n",
       "3128            5         0      38.0\n",
       "3129            6         0      38.0\n",
       "3130            8         0      35.0\n",
       "3131            5         1      38.0\n",
       "3132            5         0      38.0\n",
       "3133           30         0      33.0\n",
       "3134           11         0      36.0\n",
       "3135            7         0      38.0\n",
       "3136            8         0      37.0\n",
       "3137           11         0      38.0\n",
       "3138            9         0      29.0\n",
       "3139            9         0      28.0\n",
       "3140           16         0      29.0\n",
       "3141            5         0      28.0\n",
       "3142           15         0      27.0\n",
       "3143            7         0      27.0\n",
       "3144            7         0      20.0\n",
       "3145           21         0      19.0\n",
       "3146           17         0      17.0\n",
       "3147           13         0      18.0\n",
       "3148            7         0      11.0\n",
       "3149            8         1      11.0\n",
       "\n",
       "[3150 rows x 3 columns]"
      ]
     },
     "execution_count": 5,
     "metadata": {},
     "output_type": "execute_result"
    }
   ],
   "source": [
    "#filter out the 3 columns from the dataframe\n",
    "cols_3 = churn_df[['call_failure', 'complains', 'subs_len']]\n",
    "\n",
    "cols_3"
   ]
  },
  {
   "cell_type": "code",
   "execution_count": 6,
   "id": "eeb35bec",
   "metadata": {
    "ExecuteTime": {
     "end_time": "2021-11-16T18:56:38.687209Z",
     "start_time": "2021-11-16T18:56:38.665269Z"
    }
   },
   "outputs": [
    {
     "name": "stdout",
     "output_type": "stream",
     "text": [
      "<class 'pandas.core.frame.DataFrame'>\n",
      "RangeIndex: 3150 entries, 0 to 3149\n",
      "Data columns (total 3 columns):\n",
      "call_failure    3138 non-null object\n",
      "complains       3137 non-null object\n",
      "subs_len        3145 non-null float64\n",
      "dtypes: float64(1), object(2)\n",
      "memory usage: 73.9+ KB\n"
     ]
    }
   ],
   "source": [
    "cols_3.info()\n"
   ]
  },
  {
   "cell_type": "code",
   "execution_count": 7,
   "id": "2e0813a0",
   "metadata": {
    "ExecuteTime": {
     "end_time": "2021-11-16T18:56:39.767977Z",
     "start_time": "2021-11-16T18:56:39.753018Z"
    }
   },
   "outputs": [
    {
     "data": {
      "text/html": [
       "<div>\n",
       "<style scoped>\n",
       "    .dataframe tbody tr th:only-of-type {\n",
       "        vertical-align: middle;\n",
       "    }\n",
       "\n",
       "    .dataframe tbody tr th {\n",
       "        vertical-align: top;\n",
       "    }\n",
       "\n",
       "    .dataframe thead th {\n",
       "        text-align: right;\n",
       "    }\n",
       "</style>\n",
       "<table border=\"1\" class=\"dataframe\">\n",
       "  <thead>\n",
       "    <tr style=\"text-align: right;\">\n",
       "      <th></th>\n",
       "      <th>subs_len</th>\n",
       "    </tr>\n",
       "  </thead>\n",
       "  <tbody>\n",
       "    <tr>\n",
       "      <th>count</th>\n",
       "      <td>3145.000000</td>\n",
       "    </tr>\n",
       "    <tr>\n",
       "      <th>mean</th>\n",
       "      <td>32.333229</td>\n",
       "    </tr>\n",
       "    <tr>\n",
       "      <th>std</th>\n",
       "      <td>9.346742</td>\n",
       "    </tr>\n",
       "    <tr>\n",
       "      <th>min</th>\n",
       "      <td>-40.000000</td>\n",
       "    </tr>\n",
       "    <tr>\n",
       "      <th>25%</th>\n",
       "      <td>29.000000</td>\n",
       "    </tr>\n",
       "    <tr>\n",
       "      <th>50%</th>\n",
       "      <td>35.000000</td>\n",
       "    </tr>\n",
       "    <tr>\n",
       "      <th>75%</th>\n",
       "      <td>38.000000</td>\n",
       "    </tr>\n",
       "    <tr>\n",
       "      <th>max</th>\n",
       "      <td>47.000000</td>\n",
       "    </tr>\n",
       "  </tbody>\n",
       "</table>\n",
       "</div>"
      ],
      "text/plain": [
       "          subs_len\n",
       "count  3145.000000\n",
       "mean     32.333229\n",
       "std       9.346742\n",
       "min     -40.000000\n",
       "25%      29.000000\n",
       "50%      35.000000\n",
       "75%      38.000000\n",
       "max      47.000000"
      ]
     },
     "execution_count": 7,
     "metadata": {},
     "output_type": "execute_result"
    }
   ],
   "source": [
    "cols_3.describe()"
   ]
  },
  {
   "cell_type": "markdown",
   "id": "cfcbd876",
   "metadata": {},
   "source": [
    "### Check for null values"
   ]
  },
  {
   "cell_type": "code",
   "execution_count": 8,
   "id": "ceebcbc7",
   "metadata": {
    "ExecuteTime": {
     "end_time": "2021-11-16T18:56:41.932610Z",
     "start_time": "2021-11-16T18:56:41.919623Z"
    }
   },
   "outputs": [
    {
     "data": {
      "text/plain": [
       "call_failure    12\n",
       "complains       13\n",
       "subs_len         5\n",
       "dtype: int64"
      ]
     },
     "execution_count": 8,
     "metadata": {},
     "output_type": "execute_result"
    }
   ],
   "source": [
    "#check for null values in \n",
    "cols_3.isna().sum()"
   ]
  },
  {
   "cell_type": "markdown",
   "id": "e6a67c74",
   "metadata": {
    "ExecuteTime": {
     "end_time": "2021-11-10T00:48:19.016069Z",
     "start_time": "2021-11-10T00:48:18.820566Z"
    }
   },
   "source": [
    "Observation : \n",
    "\n",
    "12 null values in call_failure,\n",
    "\n",
    "13 null values in complains,\n",
    "\n",
    "5 null values in subs_len"
   ]
  },
  {
   "cell_type": "markdown",
   "id": "4654e203",
   "metadata": {},
   "source": [
    "### Data cleaning"
   ]
  },
  {
   "cell_type": "code",
   "execution_count": 9,
   "id": "7158fc1a",
   "metadata": {
    "ExecuteTime": {
     "end_time": "2021-11-16T18:56:43.788438Z",
     "start_time": "2021-11-16T18:56:43.767376Z"
    }
   },
   "outputs": [
    {
     "data": {
      "text/plain": [
       "0             664\n",
       "5             244\n",
       "7             166\n",
       "6             161\n",
       "8             156\n",
       "9             149\n",
       "3             140\n",
       "2             137\n",
       "4             133\n",
       "11            125\n",
       "10            124\n",
       "1             121\n",
       "13             99\n",
       "12             97\n",
       "14             85\n",
       "15             69\n",
       "16             67\n",
       "18             53\n",
       "17             45\n",
       "20             37\n",
       "19             33\n",
       "21             29\n",
       "23             25\n",
       "22             21\n",
       "25             21\n",
       "26             17\n",
       "28             17\n",
       "24             16\n",
       "30             16\n",
       "O              13\n",
       "27             13\n",
       "32              8\n",
       "29              7\n",
       "31              6\n",
       "-0.0000009      4\n",
       "o               4\n",
       "34              3\n",
       "33              3\n",
       "35              2\n",
       "36              2\n",
       "3$^             1\n",
       "ooo             1\n",
       "-0.05           1\n",
       "0.000001        1\n",
       "0.05            1\n",
       "O'              1\n",
       "Name: call_failure, dtype: int64"
      ]
     },
     "execution_count": 9,
     "metadata": {},
     "output_type": "execute_result"
    }
   ],
   "source": [
    "cols_3['call_failure'].value_counts()"
   ]
  },
  {
   "cell_type": "markdown",
   "id": "8852a69c",
   "metadata": {},
   "source": [
    "**Observation:** Since the data is not consistent, we'll replace these values"
   ]
  },
  {
   "cell_type": "code",
   "execution_count": 10,
   "id": "8439e70b",
   "metadata": {
    "ExecuteTime": {
     "end_time": "2021-11-16T18:56:45.844341Z",
     "start_time": "2021-11-16T18:56:45.823397Z"
    }
   },
   "outputs": [],
   "source": [
    "cols_3['call_failure'] = pd.to_numeric(cols_3['call_failure'].astype(str).str.replace(',',''), errors='coerce').fillna(0).astype(int)"
   ]
  },
  {
   "cell_type": "code",
   "execution_count": 11,
   "id": "a6bc947c",
   "metadata": {
    "ExecuteTime": {
     "end_time": "2021-11-16T18:56:46.774699Z",
     "start_time": "2021-11-16T18:56:46.767719Z"
    }
   },
   "outputs": [],
   "source": [
    "#replace null values with 0\n",
    "cols_3[\"call_failure\"].replace(np.nan, 0, inplace=True )"
   ]
  },
  {
   "cell_type": "code",
   "execution_count": 12,
   "id": "7b174bff",
   "metadata": {
    "ExecuteTime": {
     "end_time": "2021-11-16T18:56:47.117659Z",
     "start_time": "2021-11-16T18:56:47.097715Z"
    }
   },
   "outputs": [
    {
     "data": {
      "text/plain": [
       "0            2859\n",
       "1             231\n",
       "OO             18\n",
       "o              12\n",
       "O               7\n",
       "-1              4\n",
       "-112            1\n",
       "1999            1\n",
       "111111111       1\n",
       "11              1\n",
       "18-             1\n",
       "-11             1\n",
       "Name: complains, dtype: int64"
      ]
     },
     "execution_count": 12,
     "metadata": {},
     "output_type": "execute_result"
    }
   ],
   "source": [
    "cols_3['complains'].value_counts()"
   ]
  },
  {
   "cell_type": "markdown",
   "id": "6168bdc0",
   "metadata": {
    "ExecuteTime": {
     "end_time": "2021-11-16T17:57:15.513729Z",
     "start_time": "2021-11-16T17:57:15.500763Z"
    }
   },
   "source": [
    " **Observation:** Since complains is boolean type we will chave to replace with weither 0 or 1"
   ]
  },
  {
   "cell_type": "code",
   "execution_count": 13,
   "id": "f712d81f",
   "metadata": {
    "ExecuteTime": {
     "end_time": "2021-11-16T18:56:48.504472Z",
     "start_time": "2021-11-16T18:56:48.487519Z"
    },
    "scrolled": true
   },
   "outputs": [],
   "source": [
    "cols_3['complains'] = pd.to_numeric(cols_3['complains'].astype(str), errors='coerce').fillna(0).astype(int)"
   ]
  },
  {
   "cell_type": "code",
   "execution_count": 14,
   "id": "e43a47cf",
   "metadata": {
    "ExecuteTime": {
     "end_time": "2021-11-16T18:56:49.346900Z",
     "start_time": "2021-11-16T18:56:49.327952Z"
    }
   },
   "outputs": [
    {
     "data": {
      "text/plain": [
       " 0            2910\n",
       " 1             231\n",
       "-1               4\n",
       " 1999            1\n",
       " 11              1\n",
       "-11              1\n",
       " 111111111       1\n",
       "-112             1\n",
       "Name: complains, dtype: int64"
      ]
     },
     "execution_count": 14,
     "metadata": {},
     "output_type": "execute_result"
    }
   ],
   "source": [
    "cols_3['complains'].value_counts()"
   ]
  },
  {
   "cell_type": "code",
   "execution_count": 15,
   "id": "db05b012",
   "metadata": {
    "ExecuteTime": {
     "end_time": "2021-11-16T18:56:50.857401Z",
     "start_time": "2021-11-16T18:56:50.848392Z"
    }
   },
   "outputs": [],
   "source": [
    "cols_3.loc[cols_3['complains'] != 0, 'complains'] = 1"
   ]
  },
  {
   "cell_type": "code",
   "execution_count": 16,
   "id": "91d96d34",
   "metadata": {
    "ExecuteTime": {
     "end_time": "2021-11-16T18:56:51.900655Z",
     "start_time": "2021-11-16T18:56:51.887657Z"
    }
   },
   "outputs": [
    {
     "data": {
      "text/plain": [
       "0    2910\n",
       "1     240\n",
       "Name: complains, dtype: int64"
      ]
     },
     "execution_count": 16,
     "metadata": {},
     "output_type": "execute_result"
    }
   ],
   "source": [
    "# Verification\n",
    "cols_3['complains'].value_counts()"
   ]
  },
  {
   "cell_type": "code",
   "execution_count": 17,
   "id": "b44a9ffc",
   "metadata": {
    "ExecuteTime": {
     "end_time": "2021-11-16T18:56:52.616675Z",
     "start_time": "2021-11-16T18:56:52.607772Z"
    }
   },
   "outputs": [],
   "source": [
    "#replace all the null values with 1\n",
    "cols_3[\"call_failure\"].replace(np.nan, 1, inplace=True )"
   ]
  },
  {
   "cell_type": "code",
   "execution_count": 18,
   "id": "4b502f34",
   "metadata": {
    "ExecuteTime": {
     "end_time": "2021-11-16T18:56:53.802595Z",
     "start_time": "2021-11-16T18:56:53.786339Z"
    }
   },
   "outputs": [
    {
     "data": {
      "text/plain": [
       " 36.0000    272\n",
       " 38.0000    257\n",
       " 37.0000    226\n",
       " 35.0000    225\n",
       " 34.0000    201\n",
       " 39.0000    198\n",
       " 40.0000    182\n",
       " 33.0000    152\n",
       " 32.0000    121\n",
       " 41.0000    110\n",
       " 31.0000    104\n",
       " 30.0000     80\n",
       " 42.0000     80\n",
       " 29.0000     73\n",
       " 28.0000     59\n",
       " 43.0000     56\n",
       " 27.0000     56\n",
       " 25.0000     52\n",
       " 26.0000     45\n",
       " 44.0000     44\n",
       " 24.0000     40\n",
       " 23.0000     39\n",
       " 17.0000     32\n",
       " 15.0000     31\n",
       " 16.0000     30\n",
       " 18.0000     30\n",
       " 19.0000     29\n",
       " 20.0000     28\n",
       " 22.0000     26\n",
       " 11.0000     26\n",
       " 21.0000     25\n",
       " 14.0000     25\n",
       " 13.0000     24\n",
       " 45.0000     23\n",
       " 9.0000      22\n",
       " 12.0000     19\n",
       " 7.0000      19\n",
       " 10.0000     16\n",
       " 46.0000     13\n",
       " 8.0000      12\n",
       " 6.0000       8\n",
       " 3.0000       8\n",
       " 5.0000       6\n",
       " 36.0009      4\n",
       " 4.0000       4\n",
       "-37.0000      3\n",
       "-40.0000      3\n",
       "-35.0000      3\n",
       " 39.0010      3\n",
       " 47.0000      1\n",
       "Name: subs_len, dtype: int64"
      ]
     },
     "execution_count": 18,
     "metadata": {},
     "output_type": "execute_result"
    }
   ],
   "source": [
    "#Clean the subscription length column\n",
    "cols_3['subs_len'].value_counts()"
   ]
  },
  {
   "cell_type": "code",
   "execution_count": 19,
   "id": "0711a398",
   "metadata": {
    "ExecuteTime": {
     "end_time": "2021-11-16T18:56:55.430520Z",
     "start_time": "2021-11-16T18:56:55.415555Z"
    },
    "scrolled": true
   },
   "outputs": [],
   "source": [
    "cols_3['subs_len'] = cols_3['subs_len'].abs()"
   ]
  },
  {
   "cell_type": "code",
   "execution_count": 20,
   "id": "b12d6fad",
   "metadata": {
    "ExecuteTime": {
     "end_time": "2021-11-16T18:56:57.540362Z",
     "start_time": "2021-11-16T18:56:57.529391Z"
    }
   },
   "outputs": [
    {
     "data": {
      "text/plain": [
       "36.0000    272\n",
       "38.0000    257\n",
       "37.0000    229\n",
       "35.0000    228\n",
       "34.0000    201\n",
       "39.0000    198\n",
       "40.0000    185\n",
       "33.0000    152\n",
       "32.0000    121\n",
       "41.0000    110\n",
       "31.0000    104\n",
       "42.0000     80\n",
       "30.0000     80\n",
       "29.0000     73\n",
       "28.0000     59\n",
       "43.0000     56\n",
       "27.0000     56\n",
       "25.0000     52\n",
       "26.0000     45\n",
       "44.0000     44\n",
       "24.0000     40\n",
       "23.0000     39\n",
       "17.0000     32\n",
       "15.0000     31\n",
       "16.0000     30\n",
       "18.0000     30\n",
       "19.0000     29\n",
       "20.0000     28\n",
       "22.0000     26\n",
       "11.0000     26\n",
       "14.0000     25\n",
       "21.0000     25\n",
       "13.0000     24\n",
       "45.0000     23\n",
       "9.0000      22\n",
       "7.0000      19\n",
       "12.0000     19\n",
       "10.0000     16\n",
       "46.0000     13\n",
       "8.0000      12\n",
       "3.0000       8\n",
       "6.0000       8\n",
       "5.0000       6\n",
       "36.0009      4\n",
       "4.0000       4\n",
       "39.0010      3\n",
       "47.0000      1\n",
       "Name: subs_len, dtype: int64"
      ]
     },
     "execution_count": 20,
     "metadata": {},
     "output_type": "execute_result"
    }
   ],
   "source": [
    "cols_3['subs_len'].value_counts()"
   ]
  },
  {
   "cell_type": "code",
   "execution_count": 21,
   "id": "5a79c15c",
   "metadata": {
    "ExecuteTime": {
     "end_time": "2021-11-16T18:57:03.692545Z",
     "start_time": "2021-11-16T18:57:03.680614Z"
    },
    "scrolled": true
   },
   "outputs": [],
   "source": [
    "cols_3['subs_len'].fillna(value=cols_3['subs_len'].mean(), inplace=True)"
   ]
  },
  {
   "cell_type": "code",
   "execution_count": 22,
   "id": "1e1a6b1b",
   "metadata": {
    "ExecuteTime": {
     "end_time": "2021-11-16T18:58:01.409057Z",
     "start_time": "2021-11-16T18:58:01.395095Z"
    }
   },
   "outputs": [],
   "source": [
    "cols_3['subs_len'] = cols_3['subs_len'].astype(int)"
   ]
  },
  {
   "cell_type": "code",
   "execution_count": 23,
   "id": "a645e48f",
   "metadata": {
    "ExecuteTime": {
     "end_time": "2021-11-16T18:58:03.159284Z",
     "start_time": "2021-11-16T18:58:03.152302Z"
    }
   },
   "outputs": [
    {
     "data": {
      "text/plain": [
       "call_failure    int64\n",
       "complains       int64\n",
       "subs_len        int64\n",
       "dtype: object"
      ]
     },
     "execution_count": 23,
     "metadata": {},
     "output_type": "execute_result"
    }
   ],
   "source": [
    "cols_3.dtypes"
   ]
  },
  {
   "cell_type": "code",
   "execution_count": 24,
   "id": "a7ac8753",
   "metadata": {
    "ExecuteTime": {
     "end_time": "2021-11-16T18:58:06.244718Z",
     "start_time": "2021-11-16T18:58:06.224392Z"
    }
   },
   "outputs": [
    {
     "data": {
      "text/plain": [
       "36    276\n",
       "38    257\n",
       "37    229\n",
       "35    228\n",
       "34    201\n",
       "39    201\n",
       "40    185\n",
       "33    152\n",
       "32    126\n",
       "41    110\n",
       "31    104\n",
       "42     80\n",
       "30     80\n",
       "29     73\n",
       "28     59\n",
       "43     56\n",
       "27     56\n",
       "25     52\n",
       "26     45\n",
       "44     44\n",
       "24     40\n",
       "23     39\n",
       "17     32\n",
       "15     31\n",
       "18     30\n",
       "16     30\n",
       "19     29\n",
       "20     28\n",
       "11     26\n",
       "22     26\n",
       "14     25\n",
       "21     25\n",
       "13     24\n",
       "45     23\n",
       "9      22\n",
       "7      19\n",
       "12     19\n",
       "10     16\n",
       "46     13\n",
       "8      12\n",
       "3       8\n",
       "6       8\n",
       "5       6\n",
       "4       4\n",
       "47      1\n",
       "Name: subs_len, dtype: int64"
      ]
     },
     "execution_count": 24,
     "metadata": {},
     "output_type": "execute_result"
    }
   ],
   "source": [
    "cols_3['subs_len'].value_counts()"
   ]
  },
  {
   "cell_type": "code",
   "execution_count": 25,
   "id": "74822dc6",
   "metadata": {
    "ExecuteTime": {
     "end_time": "2021-11-16T18:58:14.966375Z",
     "start_time": "2021-11-16T18:58:14.952894Z"
    }
   },
   "outputs": [
    {
     "data": {
      "text/plain": [
       "call_failure    0\n",
       "complains       0\n",
       "subs_len        0\n",
       "dtype: int64"
      ]
     },
     "execution_count": 25,
     "metadata": {},
     "output_type": "execute_result"
    }
   ],
   "source": [
    "# Verification for null values\n",
    "\n",
    "cols_3.isna().sum()"
   ]
  },
  {
   "cell_type": "code",
   "execution_count": 26,
   "id": "74b75eea",
   "metadata": {},
   "outputs": [],
   "source": [
    "# Merging these clean columns to the original dataframe"
   ]
  },
  {
   "cell_type": "code",
   "execution_count": 27,
   "id": "a20b2b53",
   "metadata": {},
   "outputs": [],
   "source": [
    "churn_df = churn_df.drop(['call_failure', 'complains', 'subs_len'],axis = 1)\n",
    "churn_df = pd.concat([cols_3,churn_df],axis = 1)"
   ]
  },
  {
   "cell_type": "code",
   "execution_count": 28,
   "id": "32735c1f",
   "metadata": {},
   "outputs": [
    {
     "data": {
      "text/plain": [
       "call_failure           0\n",
       "complains              0\n",
       "subs_len               0\n",
       "charge_amount          2\n",
       "seconds_of_use        39\n",
       "freq_of_use           19\n",
       "freq_of_sms            4\n",
       "distinct_call_nums     2\n",
       "tariff_plan            0\n",
       "status                 0\n",
       "age                    0\n",
       "customer_value        92\n",
       "FN                     0\n",
       "FP                     0\n",
       "Churn                  0\n",
       "dtype: int64"
      ]
     },
     "execution_count": 28,
     "metadata": {},
     "output_type": "execute_result"
    }
   ],
   "source": [
    "churn_df.isnull().sum()"
   ]
  },
  {
   "cell_type": "markdown",
   "id": "94ede041",
   "metadata": {},
   "source": [
    "### Manjushree "
   ]
  },
  {
   "cell_type": "code",
   "execution_count": 29,
   "id": "7b5b095a",
   "metadata": {},
   "outputs": [],
   "source": [
    "#Filter the dataframe for cleaning and analysis\n",
    "\n",
    "col_4_5_12 = churn_df.filter(['charge_amount','customer_value','seconds_of_use','Churn'], axis=1)\n"
   ]
  },
  {
   "cell_type": "code",
   "execution_count": 30,
   "id": "fa622483",
   "metadata": {
    "scrolled": false
   },
   "outputs": [
    {
     "name": "stdout",
     "output_type": "stream",
     "text": [
      "<class 'pandas.core.frame.DataFrame'>\n",
      "RangeIndex: 3150 entries, 0 to 3149\n",
      "Data columns (total 4 columns):\n",
      "charge_amount     3148 non-null object\n",
      "customer_value    3058 non-null float64\n",
      "seconds_of_use    3111 non-null object\n",
      "Churn             3150 non-null int64\n",
      "dtypes: float64(1), int64(1), object(2)\n",
      "memory usage: 98.5+ KB\n"
     ]
    }
   ],
   "source": [
    "#Summary of the dataframe\n",
    "\n",
    "col_4_5_12.info()"
   ]
  },
  {
   "cell_type": "code",
   "execution_count": 31,
   "id": "701739c3",
   "metadata": {},
   "outputs": [
    {
     "data": {
      "text/plain": [
       "charge_amount      2\n",
       "customer_value    92\n",
       "seconds_of_use    39\n",
       "Churn              0\n",
       "dtype: int64"
      ]
     },
     "execution_count": 31,
     "metadata": {},
     "output_type": "execute_result"
    }
   ],
   "source": [
    "#count the total number of null values in all the columns\n",
    "\n",
    "col_4_5_12.isnull().sum()"
   ]
  },
  {
   "cell_type": "markdown",
   "id": "246cfefd",
   "metadata": {},
   "source": [
    "### Observations:\n",
    "\n",
    "Number of null values \n",
    "\n",
    "charge_amount : 2\n",
    "\n",
    "customer_value: 92\n",
    "\n",
    "Seconds_of_use : 39\n",
    "\n",
    "Churn:   0"
   ]
  },
  {
   "cell_type": "code",
   "execution_count": 32,
   "id": "0dbcb89b",
   "metadata": {
    "scrolled": false
   },
   "outputs": [
    {
     "data": {
      "text/plain": [
       "0.000       40\n",
       "45.495      11\n",
       "40.440      10\n",
       "15.165       6\n",
       "25.275       5\n",
       "180.000      4\n",
       "1538.145     4\n",
       "121.400      4\n",
       "131.400      4\n",
       "26.010       3\n",
       "217.415      3\n",
       "187.560      3\n",
       "960.480      3\n",
       "203.880      3\n",
       "181.775      3\n",
       "1683.090     3\n",
       "272.070      3\n",
       "191.920      3\n",
       "11.130       3\n",
       "871.040      3\n",
       "164.120      3\n",
       "883.800      3\n",
       "830.600      3\n",
       "1007.440     3\n",
       "46.035       3\n",
       "746.190      3\n",
       "2026.080     3\n",
       "73.375       3\n",
       "295.625      3\n",
       "598.120      3\n",
       "            ..\n",
       "447.480      1\n",
       "977.080      1\n",
       "220.840      1\n",
       "311.050      1\n",
       "902.160      1\n",
       "164.125      1\n",
       "715.230      1\n",
       "167.535      1\n",
       "73.200       1\n",
       "135.350      1\n",
       "1279.240     1\n",
       "234.810      1\n",
       "357.525      1\n",
       "98.640       1\n",
       "1348.850     1\n",
       "159.300      1\n",
       "211.970      1\n",
       "182.150      1\n",
       "184.520      1\n",
       "770.715      1\n",
       "59.200       1\n",
       "1986.080     1\n",
       "126.315      1\n",
       "1751.535     1\n",
       "1309.185     1\n",
       "111.850      1\n",
       "49.040       1\n",
       "147.080      1\n",
       "174.520      1\n",
       "286.440      1\n",
       "Name: customer_value, Length: 2654, dtype: int64"
      ]
     },
     "execution_count": 32,
     "metadata": {},
     "output_type": "execute_result"
    }
   ],
   "source": [
    "# Count the unique values in 'customer_value' column\n",
    "\n",
    "col_4_5_12['customer_value'].value_counts()"
   ]
  },
  {
   "cell_type": "code",
   "execution_count": 33,
   "id": "c9f2ded1",
   "metadata": {},
   "outputs": [],
   "source": [
    "# Replace the null values with zero\n",
    "\n",
    "col_4_5_12['customer_value'].replace(np.nan, 0, inplace=True )"
   ]
  },
  {
   "cell_type": "code",
   "execution_count": 34,
   "id": "cb48c2cb",
   "metadata": {},
   "outputs": [],
   "source": [
    "# Replace the null values with zero\n",
    "\n",
    "col_4_5_12['charge_amount'].replace(np.nan, 0, inplace=True )"
   ]
  },
  {
   "cell_type": "code",
   "execution_count": 35,
   "id": "8afade7d",
   "metadata": {},
   "outputs": [
    {
     "data": {
      "text/plain": [
       "0          1755\n",
       "1           616\n",
       "2           393\n",
       "3           198\n",
       "4            76\n",
       "5            30\n",
       "8            19\n",
       "7            14\n",
       "9            13\n",
       "6            11\n",
       "10            7\n",
       "0             2\n",
       "-1            1\n",
       "OO            1\n",
       "OOO           1\n",
       "o4            1\n",
       "o1            1\n",
       "-9            1\n",
       "o5            1\n",
       "2.00001       1\n",
       "-3            1\n",
       "o2            1\n",
       "o8            1\n",
       "o             1\n",
       "o7            1\n",
       "o0            1\n",
       "o3            1\n",
       "o6            1\n",
       "Name: charge_amount, dtype: int64"
      ]
     },
     "execution_count": 35,
     "metadata": {},
     "output_type": "execute_result"
    }
   ],
   "source": [
    "col_4_5_12['charge_amount'].value_counts()"
   ]
  },
  {
   "cell_type": "markdown",
   "id": "f9c97ad9",
   "metadata": {},
   "source": [
    "#### Observations:\n",
    "\n",
    "Charge_amount has String values and negative values which needs to be replaced"
   ]
  },
  {
   "cell_type": "code",
   "execution_count": 36,
   "id": "4576c407",
   "metadata": {},
   "outputs": [],
   "source": [
    "#Replace incorrect values with correct values\n",
    "\n",
    "col_4_5_12['charge_amount'].replace(['OOO','OO','0','o','o0'], 0, inplace=True )\n",
    "col_4_5_12['charge_amount'].replace(['o1'], 1, inplace=True )\n",
    "col_4_5_12['charge_amount'].replace(['o7'], 7, inplace=True )\n",
    "col_4_5_12['charge_amount'].replace(['o2'], 2, inplace=True )\n",
    "col_4_5_12['charge_amount'].replace(['o4'], 4, inplace=True )\n",
    "col_4_5_12['charge_amount'].replace(['o8'], 8, inplace=True )\n",
    "col_4_5_12['charge_amount'].replace(['o5'], 5, inplace=True )\n",
    "col_4_5_12['charge_amount'].replace(['o3'], 3, inplace=True )\n",
    "col_4_5_12['charge_amount'].replace(['o6'], 6, inplace=True )\n",
    "col_4_5_12['charge_amount'].replace(['2.00001'], 2, inplace=True )"
   ]
  },
  {
   "cell_type": "code",
   "execution_count": 37,
   "id": "ff139eaa",
   "metadata": {},
   "outputs": [],
   "source": [
    "# Convert datatype to intgere and make negatives positive\n",
    "\n",
    "col_4_5_12['charge_amount'] = col_4_5_12['charge_amount'].astype(int)\n",
    "col_4_5_12['charge_amount'] = col_4_5_12['charge_amount'].abs()"
   ]
  },
  {
   "cell_type": "code",
   "execution_count": 38,
   "id": "8a421f19",
   "metadata": {},
   "outputs": [
    {
     "data": {
      "text/plain": [
       "0     1761\n",
       "1      618\n",
       "2      395\n",
       "3      200\n",
       "4       77\n",
       "5       31\n",
       "8       20\n",
       "7       15\n",
       "9       14\n",
       "6       12\n",
       "10       7\n",
       "Name: charge_amount, dtype: int64"
      ]
     },
     "execution_count": 38,
     "metadata": {},
     "output_type": "execute_result"
    }
   ],
   "source": [
    "# Count the unique values in 'charge_amount' column\n",
    "\n",
    "col_4_5_12['charge_amount'].value_counts()"
   ]
  },
  {
   "cell_type": "code",
   "execution_count": 39,
   "id": "91267c11",
   "metadata": {
    "scrolled": true
   },
   "outputs": [
    {
     "data": {
      "text/plain": [
       "0        131\n",
       "305       37\n",
       "2088       9\n",
       "710        9\n",
       "1973       9\n",
       "1015       9\n",
       "825        8\n",
       "2393       8\n",
       "520        8\n",
       "1360       8\n",
       "650        8\n",
       "955        8\n",
       "2475       8\n",
       "1180       8\n",
       "6223       7\n",
       "3145       7\n",
       "2780       7\n",
       "1873       7\n",
       "1005       7\n",
       "2268       7\n",
       "2665       7\n",
       "438        7\n",
       "1363       7\n",
       "2573       7\n",
       "1668       7\n",
       "1260       7\n",
       "1130       7\n",
       "1263       7\n",
       "4210       6\n",
       "4390       6\n",
       "        ... \n",
       "10140      1\n",
       "1113       1\n",
       "4955       1\n",
       "16195      1\n",
       "5485       1\n",
       "2900       1\n",
       "738        1\n",
       "9158       1\n",
       "2288       1\n",
       "2273       1\n",
       "7138       1\n",
       "7675       1\n",
       "9178       1\n",
       "223        1\n",
       "3273       1\n",
       "-900       1\n",
       "2142       1\n",
       "2662       1\n",
       "6887       1\n",
       "2345       1\n",
       "1250       1\n",
       "775        1\n",
       "4575       1\n",
       "6268       1\n",
       "1255       1\n",
       "618        1\n",
       "3235       1\n",
       "6470       1\n",
       "3043       1\n",
       "10030      1\n",
       "Name: seconds_of_use, Length: 1763, dtype: int64"
      ]
     },
     "execution_count": 39,
     "metadata": {},
     "output_type": "execute_result"
    }
   ],
   "source": [
    "# Count the unique values in 'seconds_of_use' column\n",
    "\n",
    "col_4_5_12['seconds_of_use'].value_counts()"
   ]
  },
  {
   "cell_type": "code",
   "execution_count": 40,
   "id": "365d8886",
   "metadata": {},
   "outputs": [],
   "source": [
    "#Replace the null values with zeros\n",
    "\n",
    "col_4_5_12['seconds_of_use'].replace(np.nan, 0, inplace=True )"
   ]
  },
  {
   "cell_type": "code",
   "execution_count": 41,
   "id": "af637b5c",
   "metadata": {},
   "outputs": [],
   "source": [
    "# Convert datatype to intgere and make negatives positive\n",
    "\n",
    "col_4_5_12['seconds_of_use'].replace(['O3915'], 3915, inplace=True )\n",
    "col_4_5_12['seconds_of_use'] = col_4_5_12['seconds_of_use'].astype(int)\n",
    "col_4_5_12['seconds_of_use'] = col_4_5_12['seconds_of_use'].abs()"
   ]
  },
  {
   "cell_type": "code",
   "execution_count": 42,
   "id": "04ce00ce",
   "metadata": {},
   "outputs": [
    {
     "data": {
      "text/plain": [
       "0        170\n",
       "305       37\n",
       "2088       9\n",
       "1973       9\n",
       "1015       9\n",
       "710        9\n",
       "2393       8\n",
       "2475       8\n",
       "1180       8\n",
       "825        8\n",
       "520        8\n",
       "650        8\n",
       "1360       8\n",
       "955        8\n",
       "1668       7\n",
       "1005       7\n",
       "3145       7\n",
       "1363       7\n",
       "2665       7\n",
       "1873       7\n",
       "438        7\n",
       "1130       7\n",
       "1263       7\n",
       "6223       7\n",
       "2573       7\n",
       "1260       7\n",
       "2780       7\n",
       "2268       7\n",
       "6480       6\n",
       "4210       6\n",
       "        ... \n",
       "4603       1\n",
       "2558       1\n",
       "6658       1\n",
       "515        1\n",
       "4623       1\n",
       "2578       1\n",
       "2580       1\n",
       "2528       1\n",
       "475        1\n",
       "6540       1\n",
       "3423       1\n",
       "4493       1\n",
       "4495       1\n",
       "2448       1\n",
       "16785      1\n",
       "403        1\n",
       "550        1\n",
       "415        1\n",
       "2468       1\n",
       "6582       1\n",
       "6618       1\n",
       "2488       1\n",
       "14788      1\n",
       "2502       1\n",
       "6600       1\n",
       "465        1\n",
       "4563       1\n",
       "2518       1\n",
       "2520       1\n",
       "2050       1\n",
       "Name: seconds_of_use, Length: 1750, dtype: int64"
      ]
     },
     "execution_count": 42,
     "metadata": {},
     "output_type": "execute_result"
    }
   ],
   "source": [
    "# Count the unique values in 'seconds_of_use' column\n",
    "\n",
    "col_4_5_12['seconds_of_use'].value_counts()"
   ]
  },
  {
   "cell_type": "code",
   "execution_count": 43,
   "id": "e8d02a9a",
   "metadata": {},
   "outputs": [
    {
     "data": {
      "text/plain": [
       "charge_amount     0\n",
       "customer_value    0\n",
       "seconds_of_use    0\n",
       "Churn             0\n",
       "dtype: int64"
      ]
     },
     "execution_count": 43,
     "metadata": {},
     "output_type": "execute_result"
    }
   ],
   "source": [
    "# Count the total number fo null values \n",
    "\n",
    "col_4_5_12.isnull().sum()"
   ]
  },
  {
   "cell_type": "code",
   "execution_count": 44,
   "id": "47f99afb",
   "metadata": {},
   "outputs": [
    {
     "name": "stdout",
     "output_type": "stream",
     "text": [
      "<class 'pandas.core.frame.DataFrame'>\n",
      "RangeIndex: 3150 entries, 0 to 3149\n",
      "Data columns (total 4 columns):\n",
      "charge_amount     3150 non-null int64\n",
      "customer_value    3150 non-null float64\n",
      "seconds_of_use    3150 non-null int64\n",
      "Churn             3150 non-null int64\n",
      "dtypes: float64(1), int64(3)\n",
      "memory usage: 98.5 KB\n"
     ]
    }
   ],
   "source": [
    "# Get the summary of dataframe\n",
    "\n",
    "col_4_5_12.info()"
   ]
  },
  {
   "cell_type": "markdown",
   "id": "7064f92a",
   "metadata": {},
   "source": [
    "## AISHWARYA"
   ]
  },
  {
   "cell_type": "code",
   "execution_count": 45,
   "id": "8261b55b",
   "metadata": {},
   "outputs": [],
   "source": [
    "col_4_5_12 = col_4_5_12.drop(['Churn'],axis = 1)\n",
    "churn_df = churn_df.drop(['charge_amount','seconds_of_use'],axis = 1)\n",
    "churn_df = churn_df.drop(['customer_value'],axis = 1)\n",
    "churn_df = pd.concat([col_4_5_12,churn_df],axis = 1)"
   ]
  },
  {
   "cell_type": "code",
   "execution_count": 46,
   "id": "62c835b6",
   "metadata": {},
   "outputs": [
    {
     "data": {
      "text/html": [
       "<div>\n",
       "<style scoped>\n",
       "    .dataframe tbody tr th:only-of-type {\n",
       "        vertical-align: middle;\n",
       "    }\n",
       "\n",
       "    .dataframe tbody tr th {\n",
       "        vertical-align: top;\n",
       "    }\n",
       "\n",
       "    .dataframe thead th {\n",
       "        text-align: right;\n",
       "    }\n",
       "</style>\n",
       "<table border=\"1\" class=\"dataframe\">\n",
       "  <thead>\n",
       "    <tr style=\"text-align: right;\">\n",
       "      <th></th>\n",
       "      <th>call_failure</th>\n",
       "      <th>complains</th>\n",
       "      <th>subs_len</th>\n",
       "      <th>charge_amount</th>\n",
       "      <th>seconds_of_use</th>\n",
       "      <th>freq_of_use</th>\n",
       "      <th>freq_of_sms</th>\n",
       "      <th>distinct_call_nums</th>\n",
       "      <th>tariff_plan</th>\n",
       "      <th>status</th>\n",
       "      <th>age</th>\n",
       "      <th>customer_value</th>\n",
       "      <th>FN</th>\n",
       "      <th>FP</th>\n",
       "      <th>Churn</th>\n",
       "    </tr>\n",
       "  </thead>\n",
       "  <tbody>\n",
       "    <tr>\n",
       "      <th>0</th>\n",
       "      <td>8</td>\n",
       "      <td>0</td>\n",
       "      <td>38</td>\n",
       "      <td>0</td>\n",
       "      <td>4370</td>\n",
       "      <td>71.0</td>\n",
       "      <td>5.0</td>\n",
       "      <td>17.0</td>\n",
       "      <td>1</td>\n",
       "      <td>1</td>\n",
       "      <td>5</td>\n",
       "      <td>197.640</td>\n",
       "      <td>177.8760</td>\n",
       "      <td>69.7640</td>\n",
       "      <td>0</td>\n",
       "    </tr>\n",
       "    <tr>\n",
       "      <th>1</th>\n",
       "      <td>0</td>\n",
       "      <td>0</td>\n",
       "      <td>39</td>\n",
       "      <td>0</td>\n",
       "      <td>0</td>\n",
       "      <td>5.0</td>\n",
       "      <td>7.0</td>\n",
       "      <td>4.0</td>\n",
       "      <td>1</td>\n",
       "      <td>1</td>\n",
       "      <td>6</td>\n",
       "      <td>46.035</td>\n",
       "      <td>41.4315</td>\n",
       "      <td>60.0000</td>\n",
       "      <td>0</td>\n",
       "    </tr>\n",
       "    <tr>\n",
       "      <th>2</th>\n",
       "      <td>10</td>\n",
       "      <td>0</td>\n",
       "      <td>37</td>\n",
       "      <td>0</td>\n",
       "      <td>2453</td>\n",
       "      <td>60.0</td>\n",
       "      <td>359.0</td>\n",
       "      <td>24.0</td>\n",
       "      <td>1</td>\n",
       "      <td>1</td>\n",
       "      <td>2</td>\n",
       "      <td>1536.520</td>\n",
       "      <td>1382.8680</td>\n",
       "      <td>203.6520</td>\n",
       "      <td>0</td>\n",
       "    </tr>\n",
       "    <tr>\n",
       "      <th>3</th>\n",
       "      <td>10</td>\n",
       "      <td>0</td>\n",
       "      <td>38</td>\n",
       "      <td>0</td>\n",
       "      <td>4198</td>\n",
       "      <td>66.0</td>\n",
       "      <td>1.0</td>\n",
       "      <td>35.0</td>\n",
       "      <td>1</td>\n",
       "      <td>1</td>\n",
       "      <td>10</td>\n",
       "      <td>240.020</td>\n",
       "      <td>216.0180</td>\n",
       "      <td>74.0020</td>\n",
       "      <td>0</td>\n",
       "    </tr>\n",
       "    <tr>\n",
       "      <th>4</th>\n",
       "      <td>3</td>\n",
       "      <td>0</td>\n",
       "      <td>32</td>\n",
       "      <td>0</td>\n",
       "      <td>2393</td>\n",
       "      <td>58.0</td>\n",
       "      <td>2.0</td>\n",
       "      <td>33.0</td>\n",
       "      <td>1</td>\n",
       "      <td>1</td>\n",
       "      <td>9</td>\n",
       "      <td>145.805</td>\n",
       "      <td>131.2245</td>\n",
       "      <td>64.5805</td>\n",
       "      <td>0</td>\n",
       "    </tr>\n",
       "  </tbody>\n",
       "</table>\n",
       "</div>"
      ],
      "text/plain": [
       "   call_failure  complains  subs_len  charge_amount  seconds_of_use  \\\n",
       "0             8          0        38              0            4370   \n",
       "1             0          0        39              0               0   \n",
       "2            10          0        37              0            2453   \n",
       "3            10          0        38              0            4198   \n",
       "4             3          0        32              0            2393   \n",
       "\n",
       "   freq_of_use  freq_of_sms  distinct_call_nums  tariff_plan  status  age  \\\n",
       "0         71.0          5.0                17.0            1       1    5   \n",
       "1          5.0          7.0                 4.0            1       1    6   \n",
       "2         60.0        359.0                24.0            1       1    2   \n",
       "3         66.0          1.0                35.0            1       1   10   \n",
       "4         58.0          2.0                33.0            1       1    9   \n",
       "\n",
       "   customer_value         FN        FP  Churn  \n",
       "0         197.640   177.8760   69.7640      0  \n",
       "1          46.035    41.4315   60.0000      0  \n",
       "2        1536.520  1382.8680  203.6520      0  \n",
       "3         240.020   216.0180   74.0020      0  \n",
       "4         145.805   131.2245   64.5805      0  "
      ]
     },
     "execution_count": 46,
     "metadata": {},
     "output_type": "execute_result"
    }
   ],
   "source": [
    "churn_df = churn_df[['call_failure', 'complains', 'subs_len', 'charge_amount',\n",
    "       'seconds_of_use', 'freq_of_use', 'freq_of_sms', 'distinct_call_nums',\n",
    "       'tariff_plan', 'status', 'age', 'customer_value', 'FN', 'FP', 'Churn']]\n",
    "churn_df.head()"
   ]
  },
  {
   "cell_type": "code",
   "execution_count": 47,
   "id": "eb2c4b8b",
   "metadata": {},
   "outputs": [
    {
     "data": {
      "text/plain": [
       "call_failure           0\n",
       "complains              0\n",
       "subs_len               0\n",
       "charge_amount          0\n",
       "seconds_of_use         0\n",
       "freq_of_use           19\n",
       "freq_of_sms            4\n",
       "distinct_call_nums     2\n",
       "tariff_plan            0\n",
       "status                 0\n",
       "age                    0\n",
       "customer_value         0\n",
       "FN                     0\n",
       "FP                     0\n",
       "Churn                  0\n",
       "dtype: int64"
      ]
     },
     "execution_count": 47,
     "metadata": {},
     "output_type": "execute_result"
    }
   ],
   "source": [
    "# Check for null values\n",
    "churn_df.isnull().sum()"
   ]
  },
  {
   "cell_type": "markdown",
   "id": "5931229f",
   "metadata": {},
   "source": [
    "### Check for null values in freq_of_use , freq_of_sms columns and distinct_call_nums"
   ]
  },
  {
   "cell_type": "markdown",
   "id": "eea18b1e",
   "metadata": {},
   "source": [
    "Description about the columns:\n",
    "1. Frequency of use: total number of calls\n",
    "2. Frequency of SMS: total number of text messages\n",
    "3. Distinct Called Numbers: total number of distinct phone calls"
   ]
  },
  {
   "cell_type": "code",
   "execution_count": 48,
   "id": "055743d0",
   "metadata": {},
   "outputs": [
    {
     "name": "stdout",
     "output_type": "stream",
     "text": [
      "Number of null values in freq_of_use: 19\n",
      "Number of null values in freq_of_sms: 4\n",
      "Number of null values in distinct_call_nums: 2\n"
     ]
    }
   ],
   "source": [
    "# Checking for null values in freq_of_use column\n",
    "print('Number of null values in freq_of_use:',churn_df['freq_of_use'].isnull().sum())\n",
    "# Checking for null values in freq_of_sms column\n",
    "print('Number of null values in freq_of_sms:',churn_df['freq_of_sms'].isnull().sum())\n",
    "# Checking for null values in distinct_call_nums column\n",
    "print('Number of null values in distinct_call_nums:',churn_df['distinct_call_nums'].isnull().sum())"
   ]
  },
  {
   "cell_type": "code",
   "execution_count": 49,
   "id": "fa4e3056",
   "metadata": {},
   "outputs": [
    {
     "name": "stdout",
     "output_type": "stream",
     "text": [
      "Maximum value in freq_of_use 255.0\n",
      "Minimum value in freq_of_use -176.0\n",
      "Maximum value in freq_of_sms 522.0\n",
      "Minimum value in freq_of_sms -9.0\n",
      "Maximum value in distinct_call_nums 97.0\n",
      "Minimum value in distinct_call_nums 0.0\n"
     ]
    }
   ],
   "source": [
    "# Checking if there are any negative values or extreme values. As these columns cant have negative numbers as values\n",
    "print('Maximum value in freq_of_use',churn_df['freq_of_use'].max())\n",
    "print('Minimum value in freq_of_use',churn_df['freq_of_use'].min())\n",
    "print('Maximum value in freq_of_sms',churn_df['freq_of_sms'].max())\n",
    "print('Minimum value in freq_of_sms',churn_df['freq_of_sms'].min())\n",
    "print('Maximum value in distinct_call_nums',churn_df['distinct_call_nums'].max())\n",
    "print('Minimum value in distinct_call_nums',churn_df['distinct_call_nums'].min())"
   ]
  },
  {
   "cell_type": "markdown",
   "id": "24c02a07",
   "metadata": {},
   "source": [
    "Observation\n",
    "1. freq_of_use, freq_of_sms has some negative values\n",
    "2. distinct_call_nums has no negative values"
   ]
  },
  {
   "cell_type": "markdown",
   "id": "40c3fe6d",
   "metadata": {},
   "source": [
    "### Imputing null values with mean"
   ]
  },
  {
   "cell_type": "markdown",
   "id": "162a7313",
   "metadata": {},
   "source": [
    "These three columns are numerical and are related to the number of calls and SMS sent by consumers, it would be more appropriate to impute null values with the mean value."
   ]
  },
  {
   "cell_type": "code",
   "execution_count": 50,
   "id": "03c92422",
   "metadata": {},
   "outputs": [],
   "source": [
    "# Imputing mean values in place of null values\n",
    "cols = churn_df.iloc[:,[5,6,7]]\n",
    "for x in cols.columns:\n",
    "    mean_column = np.nanmean(churn_df[x].values)\n",
    "    churn_df[x].replace(np.nan, mean_column, inplace=True)"
   ]
  },
  {
   "cell_type": "code",
   "execution_count": 51,
   "id": "2f2cdeff",
   "metadata": {},
   "outputs": [
    {
     "name": "stdout",
     "output_type": "stream",
     "text": [
      "Number of null values in freq_of_use: 0\n",
      "Number of null values in freq_of_sms: 0\n",
      "Number of null values in distinct_call_nums: 0\n"
     ]
    }
   ],
   "source": [
    "# Checking for null values in freq_of_use column\n",
    "print('Number of null values in freq_of_use:',churn_df['freq_of_use'].isnull().sum())\n",
    "# Checking for null values in freq_of_sms column\n",
    "print('Number of null values in freq_of_sms:',churn_df['freq_of_sms'].isnull().sum())\n",
    "# Checking for null values in distinct_call_nums column\n",
    "print('Number of null values in distinct_call_nums:',churn_df['distinct_call_nums'].isnull().sum())"
   ]
  },
  {
   "cell_type": "markdown",
   "id": "8715bbad",
   "metadata": {},
   "source": [
    "Observation:\n",
    "\n",
    "As we can see, now these three columns are free of null values"
   ]
  },
  {
   "cell_type": "markdown",
   "id": "ad20a21e",
   "metadata": {},
   "source": [
    "### Removing -  symbol from the columns"
   ]
  },
  {
   "cell_type": "code",
   "execution_count": 52,
   "id": "0cacb816",
   "metadata": {},
   "outputs": [],
   "source": [
    "# Eliminating the - symbol since the amount of text messages or phone calls cannot be negative.\n",
    "for i in cols.columns:\n",
    "    churn_df[i] = abs(churn_df[i])"
   ]
  },
  {
   "cell_type": "code",
   "execution_count": 53,
   "id": "d7677a45",
   "metadata": {},
   "outputs": [
    {
     "name": "stdout",
     "output_type": "stream",
     "text": [
      "Minimum value in freq_of_use 0.0\n",
      "Minimum value in freq_of_sms 0.0\n",
      "Minimum value in distinct_call_nums 0.0\n"
     ]
    }
   ],
   "source": [
    "#Checking if there are any negative values or extreme values. As these columns cant have negative numbers as values\n",
    "print('Minimum value in freq_of_use',churn_df['freq_of_use'].min())\n",
    "print('Minimum value in freq_of_sms',churn_df['freq_of_sms'].min())\n",
    "print('Minimum value in distinct_call_nums',churn_df['distinct_call_nums'].min())"
   ]
  },
  {
   "cell_type": "markdown",
   "id": "9e5efc23",
   "metadata": {},
   "source": [
    "Observation:\n",
    "    \n",
    "We dont have any negative values in the columns "
   ]
  },
  {
   "cell_type": "markdown",
   "id": "64dcc8a8",
   "metadata": {},
   "source": [
    "## Archita"
   ]
  },
  {
   "cell_type": "markdown",
   "id": "70a9c78b",
   "metadata": {},
   "source": [
    "### Correcting incorrect values in age column and then creating a Age group column for clear seggregation of data"
   ]
  },
  {
   "cell_type": "code",
   "execution_count": 54,
   "id": "5612b928",
   "metadata": {},
   "outputs": [
    {
     "data": {
      "text/plain": [
       "call_failure            int64\n",
       "complains               int64\n",
       "subs_len                int64\n",
       "charge_amount           int64\n",
       "seconds_of_use          int64\n",
       "freq_of_use           float64\n",
       "freq_of_sms           float64\n",
       "distinct_call_nums    float64\n",
       "tariff_plan             int64\n",
       "status                  int64\n",
       "age                     int64\n",
       "customer_value        float64\n",
       "FN                    float64\n",
       "FP                    float64\n",
       "Churn                   int64\n",
       "dtype: object"
      ]
     },
     "execution_count": 54,
     "metadata": {},
     "output_type": "execute_result"
    }
   ],
   "source": [
    "churn_df.dtypes"
   ]
  },
  {
   "cell_type": "code",
   "execution_count": 55,
   "id": "d4497a1e",
   "metadata": {},
   "outputs": [
    {
     "data": {
      "text/plain": [
       " 42     110\n",
       " 44     102\n",
       " 34     102\n",
       " 41     101\n",
       " 32     100\n",
       " 38      98\n",
       " 40      94\n",
       " 30      93\n",
       " 33      92\n",
       " 37      92\n",
       " 43      92\n",
       " 39      90\n",
       " 20      89\n",
       " 35      89\n",
       " 16      88\n",
       " 36      87\n",
       " 31      83\n",
       " 21      82\n",
       " 27      82\n",
       " 25      79\n",
       " 28      79\n",
       " 26      76\n",
       " 23      74\n",
       " 29      71\n",
       " 18      70\n",
       " 24      65\n",
       " 17      64\n",
       " 22      62\n",
       " 19      56\n",
       " 55      46\n",
       "       ... \n",
       " 65      14\n",
       " 74      13\n",
       " 9       13\n",
       " 15      12\n",
       " 7       10\n",
       " 60       9\n",
       " 62       9\n",
       " 71       9\n",
       " 69       9\n",
       " 0        9\n",
       " 14       9\n",
       " 13       8\n",
       " 2        8\n",
       " 66       8\n",
       " 12       7\n",
       " 75       7\n",
       " 73       7\n",
       " 67       6\n",
       " 8        6\n",
       " 1        5\n",
       " 70       5\n",
       " 3        5\n",
       " 5        5\n",
       " 63       5\n",
       " 10       4\n",
       " 4        3\n",
       " 6        2\n",
       " 220      1\n",
       "-13       1\n",
       " 233      1\n",
       "Name: age, Length: 79, dtype: int64"
      ]
     },
     "metadata": {},
     "output_type": "display_data"
    }
   ],
   "source": [
    "#displaying distinct values in age column\n",
    "display(churn_df['age'].value_counts() )"
   ]
  },
  {
   "cell_type": "code",
   "execution_count": 56,
   "id": "759d2457",
   "metadata": {},
   "outputs": [],
   "source": [
    "#adding a new ageGroup column to the data set\n",
    "churn_df.insert(11, \"ageGroup\",0)"
   ]
  },
  {
   "cell_type": "code",
   "execution_count": 57,
   "id": "29a18a72",
   "metadata": {},
   "outputs": [],
   "source": [
    "#calculating the mean of all the ages to replace any incorrect with mean\n",
    "df_mean = round(churn_df[\"age\"].mean())"
   ]
  },
  {
   "cell_type": "code",
   "execution_count": 58,
   "id": "1ec46e8e",
   "metadata": {},
   "outputs": [
    {
     "data": {
      "text/plain": [
       "35"
      ]
     },
     "execution_count": 58,
     "metadata": {},
     "output_type": "execute_result"
    }
   ],
   "source": [
    "df_mean"
   ]
  },
  {
   "cell_type": "code",
   "execution_count": 59,
   "id": "458d1175",
   "metadata": {},
   "outputs": [],
   "source": [
    "#correcting data in age column by replacing negative or unusual age numbers with mean age\n",
    "for i in range(len(churn_df)):\n",
    "    if(churn_df.loc[i,'age'] < 0) | (churn_df.loc[i,'age'] > 100) :\n",
    "        churn_df.loc[i,'age'] = df_mean "
   ]
  },
  {
   "cell_type": "code",
   "execution_count": 60,
   "id": "497d84f5",
   "metadata": {},
   "outputs": [],
   "source": [
    "for i in range(len(churn_df)):\n",
    "    if  (churn_df.loc[i,'age'] > 0) & (churn_df.loc[i,'age']<=15) :  \n",
    "        churn_df.loc[i,'ageGroup'] = 1  \n",
    "    if  (churn_df.loc[i,'age'] > 15) & (churn_df.loc[i,'age']<=30) :  \n",
    "        churn_df.loc[i,'ageGroup'] = 2 \n",
    "    if  (churn_df.loc[i,'age'] > 30) & (churn_df.loc[i,'age']<=45) :  \n",
    "        churn_df.loc[i,'ageGroup'] = 3 \n",
    "    if  (churn_df.loc[i,'age'] > 45) & (churn_df.loc[i,'age']<=60) :  \n",
    "        churn_df.loc[i,'ageGroup'] = 4 \n",
    "    if  (churn_df.loc[i,'age'] > 60) & (churn_df.loc[i,'age']<=80) :  \n",
    "        churn_df.loc[i,'ageGroup'] = 5\n",
    "    if  (churn_df.loc[i,'age'] > 80) & (churn_df.loc[i,'age']< 0) :  \n",
    "        churn_df.loc[i,'ageGroup'] = 2    "
   ]
  },
  {
   "cell_type": "code",
   "execution_count": 61,
   "id": "9ab2ab1a",
   "metadata": {},
   "outputs": [
    {
     "data": {
      "text/plain": [
       "3    1361\n",
       "2    1130\n",
       "4     387\n",
       "5     152\n",
       "1     111\n",
       "0       9\n",
       "Name: ageGroup, dtype: int64"
      ]
     },
     "metadata": {},
     "output_type": "display_data"
    }
   ],
   "source": [
    "  display(churn_df['ageGroup'].value_counts() )"
   ]
  },
  {
   "cell_type": "markdown",
   "id": "01199bd9",
   "metadata": {},
   "source": [
    "# Aishwarya"
   ]
  },
  {
   "cell_type": "code",
   "execution_count": 62,
   "id": "42824acd",
   "metadata": {},
   "outputs": [
    {
     "data": {
      "text/plain": [
       "call_failure          0\n",
       "complains             0\n",
       "subs_len              0\n",
       "charge_amount         0\n",
       "seconds_of_use        0\n",
       "freq_of_use           0\n",
       "freq_of_sms           0\n",
       "distinct_call_nums    0\n",
       "tariff_plan           0\n",
       "status                0\n",
       "age                   0\n",
       "ageGroup              0\n",
       "customer_value        0\n",
       "FN                    0\n",
       "FP                    0\n",
       "Churn                 0\n",
       "dtype: int64"
      ]
     },
     "execution_count": 62,
     "metadata": {},
     "output_type": "execute_result"
    }
   ],
   "source": [
    "# Checking for null values in the dataset\n",
    "churn_df.isnull().sum()"
   ]
  },
  {
   "cell_type": "code",
   "execution_count": 63,
   "id": "fea51afc",
   "metadata": {},
   "outputs": [
    {
     "data": {
      "text/plain": [
       "call_failure            int64\n",
       "complains               int64\n",
       "subs_len                int64\n",
       "charge_amount           int64\n",
       "seconds_of_use          int64\n",
       "freq_of_use           float64\n",
       "freq_of_sms           float64\n",
       "distinct_call_nums    float64\n",
       "tariff_plan             int64\n",
       "status                  int64\n",
       "age                     int64\n",
       "ageGroup                int64\n",
       "customer_value        float64\n",
       "FN                    float64\n",
       "FP                    float64\n",
       "Churn                   int64\n",
       "dtype: object"
      ]
     },
     "execution_count": 63,
     "metadata": {},
     "output_type": "execute_result"
    }
   ],
   "source": [
    "# Checking if any of the columns is misclassified due to data discrepancies \n",
    "churn_df.dtypes"
   ]
  },
  {
   "cell_type": "markdown",
   "id": "e15a26f8",
   "metadata": {},
   "source": [
    "As we can see, our dataset is free of null values and none of the columns seems to be misclassified as some other type of data we can load the dataset onto a csv file and use it for model building and visualization"
   ]
  },
  {
   "cell_type": "code",
   "execution_count": 64,
   "id": "511cc933",
   "metadata": {},
   "outputs": [],
   "source": [
    "churn_df.to_csv('churn_final.csv',index = False)"
   ]
  }
 ],
 "metadata": {
  "kernelspec": {
   "display_name": "Python 3",
   "language": "python",
   "name": "python3"
  },
  "language_info": {
   "codemirror_mode": {
    "name": "ipython",
    "version": 3
   },
   "file_extension": ".py",
   "mimetype": "text/x-python",
   "name": "python",
   "nbconvert_exporter": "python",
   "pygments_lexer": "ipython3",
   "version": "3.8.8"
  }
 },
 "nbformat": 4,
 "nbformat_minor": 5
}
