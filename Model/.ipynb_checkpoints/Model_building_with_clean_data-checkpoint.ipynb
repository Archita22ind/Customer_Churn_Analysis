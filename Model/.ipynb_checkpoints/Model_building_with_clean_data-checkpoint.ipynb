{
 "cells": [
  {
   "cell_type": "markdown",
   "id": "b6b240df",
   "metadata": {},
   "source": [
    "import plotly.express as px\n",
    "# ^^^ pyforest auto-imports - don't write above this line\n",
    "# Importing Necessary Python Libraries"
   ]
  },
  {
   "cell_type": "markdown",
   "id": "5ef8a195",
   "metadata": {},
   "source": [
    "### CoAuthors -  Aishwarya, Rohit , Archita"
   ]
  },
  {
   "cell_type": "code",
   "execution_count": 21,
   "id": "0f94ad17",
   "metadata": {
    "ExecuteTime": {
     "end_time": "2021-11-21T03:15:56.665206Z",
     "start_time": "2021-11-21T03:15:56.651245Z"
    }
   },
   "outputs": [],
   "source": [
    "import time\n",
    "import numpy as np\n",
    "import pandas as pd\n",
    "import seaborn as sn\n",
    "import seaborn as sns\n",
    "import warnings\n",
    "import matplotlib.pyplot as plt\n",
    "\n",
    "\n",
    "from collections import Counter\n",
    "from sklearn import metrics\n",
    "from xgboost import XGBClassifier\n",
    "from sklearn.svm import LinearSVC,SVC\n",
    "from imblearn.over_sampling import SMOTE\n",
    "from sklearn.preprocessing import MinMaxScaler\n",
    "from sklearn.tree import DecisionTreeClassifier\n",
    "from sklearn.naive_bayes import GaussianNB, MultinomialNB, ComplementNB\n",
    "from sklearn.model_selection import train_test_split, GridSearchCV, StratifiedShuffleSplit\n",
    "from sklearn.metrics import accuracy_score, roc_curve, confusion_matrix, classification_report, roc_auc_score\n",
    "\n",
    "\n",
    "warnings.filterwarnings('ignore')"
   ]
  },
  {
   "cell_type": "code",
   "execution_count": 2,
   "id": "3711aa80",
   "metadata": {
    "ExecuteTime": {
     "end_time": "2021-11-21T03:04:21.198452Z",
     "start_time": "2021-11-21T03:04:21.153570Z"
    }
   },
   "outputs": [
    {
     "data": {
      "text/html": [
       "<div>\n",
       "<style scoped>\n",
       "    .dataframe tbody tr th:only-of-type {\n",
       "        vertical-align: middle;\n",
       "    }\n",
       "\n",
       "    .dataframe tbody tr th {\n",
       "        vertical-align: top;\n",
       "    }\n",
       "\n",
       "    .dataframe thead th {\n",
       "        text-align: right;\n",
       "    }\n",
       "</style>\n",
       "<table border=\"1\" class=\"dataframe\">\n",
       "  <thead>\n",
       "    <tr style=\"text-align: right;\">\n",
       "      <th></th>\n",
       "      <th>call_failure</th>\n",
       "      <th>complains</th>\n",
       "      <th>subs_len</th>\n",
       "      <th>charge_amount</th>\n",
       "      <th>seconds_of_use</th>\n",
       "      <th>freq_of_use</th>\n",
       "      <th>freq_of_sms</th>\n",
       "      <th>distinct_call_nums</th>\n",
       "      <th>tariff_plan</th>\n",
       "      <th>status</th>\n",
       "      <th>age</th>\n",
       "      <th>ageGroup</th>\n",
       "      <th>customer_value</th>\n",
       "      <th>FN</th>\n",
       "      <th>FP</th>\n",
       "      <th>Churn</th>\n",
       "    </tr>\n",
       "  </thead>\n",
       "  <tbody>\n",
       "    <tr>\n",
       "      <th>0</th>\n",
       "      <td>8</td>\n",
       "      <td>0</td>\n",
       "      <td>38</td>\n",
       "      <td>0</td>\n",
       "      <td>4370</td>\n",
       "      <td>71.0</td>\n",
       "      <td>5.0</td>\n",
       "      <td>17.0</td>\n",
       "      <td>1</td>\n",
       "      <td>1</td>\n",
       "      <td>5</td>\n",
       "      <td>1</td>\n",
       "      <td>197.640</td>\n",
       "      <td>177.8760</td>\n",
       "      <td>69.7640</td>\n",
       "      <td>0</td>\n",
       "    </tr>\n",
       "    <tr>\n",
       "      <th>1</th>\n",
       "      <td>0</td>\n",
       "      <td>0</td>\n",
       "      <td>39</td>\n",
       "      <td>0</td>\n",
       "      <td>0</td>\n",
       "      <td>5.0</td>\n",
       "      <td>7.0</td>\n",
       "      <td>4.0</td>\n",
       "      <td>1</td>\n",
       "      <td>1</td>\n",
       "      <td>6</td>\n",
       "      <td>1</td>\n",
       "      <td>46.035</td>\n",
       "      <td>41.4315</td>\n",
       "      <td>60.0000</td>\n",
       "      <td>0</td>\n",
       "    </tr>\n",
       "    <tr>\n",
       "      <th>2</th>\n",
       "      <td>10</td>\n",
       "      <td>0</td>\n",
       "      <td>37</td>\n",
       "      <td>0</td>\n",
       "      <td>2453</td>\n",
       "      <td>60.0</td>\n",
       "      <td>359.0</td>\n",
       "      <td>24.0</td>\n",
       "      <td>1</td>\n",
       "      <td>1</td>\n",
       "      <td>2</td>\n",
       "      <td>1</td>\n",
       "      <td>1536.520</td>\n",
       "      <td>1382.8680</td>\n",
       "      <td>203.6520</td>\n",
       "      <td>0</td>\n",
       "    </tr>\n",
       "    <tr>\n",
       "      <th>3</th>\n",
       "      <td>10</td>\n",
       "      <td>0</td>\n",
       "      <td>38</td>\n",
       "      <td>0</td>\n",
       "      <td>4198</td>\n",
       "      <td>66.0</td>\n",
       "      <td>1.0</td>\n",
       "      <td>35.0</td>\n",
       "      <td>1</td>\n",
       "      <td>1</td>\n",
       "      <td>10</td>\n",
       "      <td>1</td>\n",
       "      <td>240.020</td>\n",
       "      <td>216.0180</td>\n",
       "      <td>74.0020</td>\n",
       "      <td>0</td>\n",
       "    </tr>\n",
       "    <tr>\n",
       "      <th>4</th>\n",
       "      <td>3</td>\n",
       "      <td>0</td>\n",
       "      <td>32</td>\n",
       "      <td>0</td>\n",
       "      <td>2393</td>\n",
       "      <td>58.0</td>\n",
       "      <td>2.0</td>\n",
       "      <td>33.0</td>\n",
       "      <td>1</td>\n",
       "      <td>1</td>\n",
       "      <td>9</td>\n",
       "      <td>1</td>\n",
       "      <td>145.805</td>\n",
       "      <td>131.2245</td>\n",
       "      <td>64.5805</td>\n",
       "      <td>0</td>\n",
       "    </tr>\n",
       "    <tr>\n",
       "      <th>...</th>\n",
       "      <td>...</td>\n",
       "      <td>...</td>\n",
       "      <td>...</td>\n",
       "      <td>...</td>\n",
       "      <td>...</td>\n",
       "      <td>...</td>\n",
       "      <td>...</td>\n",
       "      <td>...</td>\n",
       "      <td>...</td>\n",
       "      <td>...</td>\n",
       "      <td>...</td>\n",
       "      <td>...</td>\n",
       "      <td>...</td>\n",
       "      <td>...</td>\n",
       "      <td>...</td>\n",
       "      <td>...</td>\n",
       "    </tr>\n",
       "    <tr>\n",
       "      <th>3145</th>\n",
       "      <td>21</td>\n",
       "      <td>0</td>\n",
       "      <td>19</td>\n",
       "      <td>2</td>\n",
       "      <td>6697</td>\n",
       "      <td>147.0</td>\n",
       "      <td>92.0</td>\n",
       "      <td>44.0</td>\n",
       "      <td>2</td>\n",
       "      <td>1</td>\n",
       "      <td>68</td>\n",
       "      <td>5</td>\n",
       "      <td>721.980</td>\n",
       "      <td>649.7820</td>\n",
       "      <td>122.1980</td>\n",
       "      <td>0</td>\n",
       "    </tr>\n",
       "    <tr>\n",
       "      <th>3146</th>\n",
       "      <td>17</td>\n",
       "      <td>0</td>\n",
       "      <td>17</td>\n",
       "      <td>1</td>\n",
       "      <td>9237</td>\n",
       "      <td>177.0</td>\n",
       "      <td>80.0</td>\n",
       "      <td>42.0</td>\n",
       "      <td>1</td>\n",
       "      <td>1</td>\n",
       "      <td>65</td>\n",
       "      <td>5</td>\n",
       "      <td>261.210</td>\n",
       "      <td>235.0890</td>\n",
       "      <td>76.1210</td>\n",
       "      <td>0</td>\n",
       "    </tr>\n",
       "    <tr>\n",
       "      <th>3147</th>\n",
       "      <td>13</td>\n",
       "      <td>0</td>\n",
       "      <td>18</td>\n",
       "      <td>4</td>\n",
       "      <td>3157</td>\n",
       "      <td>51.0</td>\n",
       "      <td>38.0</td>\n",
       "      <td>21.0</td>\n",
       "      <td>1</td>\n",
       "      <td>1</td>\n",
       "      <td>64</td>\n",
       "      <td>5</td>\n",
       "      <td>280.320</td>\n",
       "      <td>252.2880</td>\n",
       "      <td>78.0320</td>\n",
       "      <td>0</td>\n",
       "    </tr>\n",
       "    <tr>\n",
       "      <th>3148</th>\n",
       "      <td>7</td>\n",
       "      <td>0</td>\n",
       "      <td>11</td>\n",
       "      <td>2</td>\n",
       "      <td>4695</td>\n",
       "      <td>46.0</td>\n",
       "      <td>222.0</td>\n",
       "      <td>12.0</td>\n",
       "      <td>1</td>\n",
       "      <td>1</td>\n",
       "      <td>62</td>\n",
       "      <td>5</td>\n",
       "      <td>1077.640</td>\n",
       "      <td>969.8760</td>\n",
       "      <td>157.7640</td>\n",
       "      <td>0</td>\n",
       "    </tr>\n",
       "    <tr>\n",
       "      <th>3149</th>\n",
       "      <td>8</td>\n",
       "      <td>1</td>\n",
       "      <td>11</td>\n",
       "      <td>2</td>\n",
       "      <td>1792</td>\n",
       "      <td>25.0</td>\n",
       "      <td>7.0</td>\n",
       "      <td>9.0</td>\n",
       "      <td>1</td>\n",
       "      <td>1</td>\n",
       "      <td>68</td>\n",
       "      <td>5</td>\n",
       "      <td>100.680</td>\n",
       "      <td>90.6120</td>\n",
       "      <td>60.0680</td>\n",
       "      <td>1</td>\n",
       "    </tr>\n",
       "  </tbody>\n",
       "</table>\n",
       "<p>3150 rows × 16 columns</p>\n",
       "</div>"
      ],
      "text/plain": [
       "      call_failure  complains  subs_len  charge_amount  seconds_of_use  \\\n",
       "0                8          0        38              0            4370   \n",
       "1                0          0        39              0               0   \n",
       "2               10          0        37              0            2453   \n",
       "3               10          0        38              0            4198   \n",
       "4                3          0        32              0            2393   \n",
       "...            ...        ...       ...            ...             ...   \n",
       "3145            21          0        19              2            6697   \n",
       "3146            17          0        17              1            9237   \n",
       "3147            13          0        18              4            3157   \n",
       "3148             7          0        11              2            4695   \n",
       "3149             8          1        11              2            1792   \n",
       "\n",
       "      freq_of_use  freq_of_sms  distinct_call_nums  tariff_plan  status  age  \\\n",
       "0            71.0          5.0                17.0            1       1    5   \n",
       "1             5.0          7.0                 4.0            1       1    6   \n",
       "2            60.0        359.0                24.0            1       1    2   \n",
       "3            66.0          1.0                35.0            1       1   10   \n",
       "4            58.0          2.0                33.0            1       1    9   \n",
       "...           ...          ...                 ...          ...     ...  ...   \n",
       "3145        147.0         92.0                44.0            2       1   68   \n",
       "3146        177.0         80.0                42.0            1       1   65   \n",
       "3147         51.0         38.0                21.0            1       1   64   \n",
       "3148         46.0        222.0                12.0            1       1   62   \n",
       "3149         25.0          7.0                 9.0            1       1   68   \n",
       "\n",
       "      ageGroup  customer_value         FN        FP  Churn  \n",
       "0            1         197.640   177.8760   69.7640      0  \n",
       "1            1          46.035    41.4315   60.0000      0  \n",
       "2            1        1536.520  1382.8680  203.6520      0  \n",
       "3            1         240.020   216.0180   74.0020      0  \n",
       "4            1         145.805   131.2245   64.5805      0  \n",
       "...        ...             ...        ...       ...    ...  \n",
       "3145         5         721.980   649.7820  122.1980      0  \n",
       "3146         5         261.210   235.0890   76.1210      0  \n",
       "3147         5         280.320   252.2880   78.0320      0  \n",
       "3148         5        1077.640   969.8760  157.7640      0  \n",
       "3149         5         100.680    90.6120   60.0680      1  \n",
       "\n",
       "[3150 rows x 16 columns]"
      ]
     },
     "execution_count": 2,
     "metadata": {},
     "output_type": "execute_result"
    }
   ],
   "source": [
    "churn_df = pd.read_csv('../data/churn_final.csv')\n",
    "churn_df"
   ]
  },
  {
   "cell_type": "markdown",
   "id": "eb3e4959",
   "metadata": {},
   "source": [
    "<b> *The given dataset has severe class imbalance* </b>"
   ]
  },
  {
   "cell_type": "code",
   "execution_count": 3,
   "id": "ade8c0ba",
   "metadata": {
    "ExecuteTime": {
     "end_time": "2021-11-21T03:04:21.214432Z",
     "start_time": "2021-11-21T03:04:21.201443Z"
    }
   },
   "outputs": [],
   "source": [
    "\n",
    "def countplot(x,df):\n",
    "    \"\"\"Countplot\"\"\"\n",
    "    sns.set_style(\"dark\")\n",
    "    sns.set(rc={'figure.figsize':(8,8)})\n",
    "    sns.countplot(x=x, data=df, palette=sns.color_palette(\"Paired\", 7), saturation=10)\n",
    "    plt.title('Count plot',fontsize = 20);\n",
    "    plt.savefig('Countplot.png')\n",
    "    plt.show()"
   ]
  },
  {
   "cell_type": "code",
   "execution_count": 4,
   "id": "b0314496",
   "metadata": {
    "ExecuteTime": {
     "end_time": "2021-11-21T03:04:21.826614Z",
     "start_time": "2021-11-21T03:04:21.635167Z"
    }
   },
   "outputs": [
    {
     "data": {
      "image/png": "[encoded data removed]",
      "text/plain": [
       "<Figure size 576x576 with 1 Axes>"
      ]
     },
     "metadata": {},
     "output_type": "display_data"
    }
   ],
   "source": [
    "countplot('Churn',churn_df)"
   ]
  },
  {
   "cell_type": "markdown",
   "id": "fba1bd13",
   "metadata": {},
   "source": [
    "<b> *Challenge of working with imbalanced datasets:* </b>\n",
    "<br>    Most machine learning techniques will ignore, and in turn have poor performance on, the minority class\n",
    "<br> Biased predictions\n",
    "<br> Misleading accuracy\n",
    "\n",
    "<b> *Ways to addressing imbalanced datasets:* </b>\n",
    "<br>    Oversample the minority class \n",
    "\n",
    "<b> Synthetic Minority Oversampling Technique </b>\n",
    "<br>  It involves duplicating examples in the minority class, although these examples don’t add any new information to the model. Instead, new examples can be synthesized from the existing examples. This is a type of data augmentation for the minority class and is referred to as the Synthetic Minority Oversampling Technique, or SMOTE for short.\n",
    "\n",
    "<b> Balance the classes by increasing minority or decreasing majority </b>\n",
    "<br> Random Under-sampling</br>\n",
    "- Randomly remove majority class observations\n",
    "- Helps balance the dataset\n",
    "- Discarded observations could have important information\n",
    "- May lead to bias\n",
    "<br> Or undersampling majority dataset</br>\n",
    "- Randomly add more minority observations by replication\n",
    "- No information loss\n",
    "- Prone to overfitting due to copying same information"
   ]
  },
  {
   "cell_type": "code",
   "execution_count": 5,
   "id": "4fbfa589",
   "metadata": {
    "ExecuteTime": {
     "end_time": "2021-11-21T03:04:22.508243Z",
     "start_time": "2021-11-21T03:04:22.499283Z"
    }
   },
   "outputs": [],
   "source": [
    "#split the data\n",
    "X = churn_df.iloc[:,:15]\n",
    "\n",
    "#store the output variable in y\n",
    "y = churn_df.iloc[:,15]"
   ]
  },
  {
   "cell_type": "code",
   "execution_count": 6,
   "id": "c4741fa7",
   "metadata": {
    "ExecuteTime": {
     "end_time": "2021-11-21T03:04:22.942018Z",
     "start_time": "2021-11-21T03:04:22.923104Z"
    }
   },
   "outputs": [],
   "source": [
    "# Scaling data to 0 to 1\n",
    "\n",
    "scaler = MinMaxScaler()\n",
    "scaler.fit(X)\n",
    "X = scaler.transform(X)"
   ]
  },
  {
   "cell_type": "code",
   "execution_count": 7,
   "id": "564b2bb5",
   "metadata": {
    "ExecuteTime": {
     "end_time": "2021-11-21T03:04:23.364462Z",
     "start_time": "2021-11-21T03:04:23.342536Z"
    }
   },
   "outputs": [],
   "source": [
    "# split data to X train/test and Y train/test\n",
    "X_train, X_test, Y_train, Y_test = train_test_split(X, y, test_size=0.30, random_state=42, stratify = y)\n",
    "\n",
    "# cross-validation with 5 splits\n",
    "cv = StratifiedShuffleSplit(n_splits=5, random_state = 88)\n"
   ]
  },
  {
   "cell_type": "code",
   "execution_count": 8,
   "id": "4ec4188c",
   "metadata": {
    "ExecuteTime": {
     "end_time": "2021-11-21T03:04:23.770509Z",
     "start_time": "2021-11-21T03:04:23.750563Z"
    }
   },
   "outputs": [
    {
     "data": {
      "text/plain": [
       "{0: 1858, 1: 347}"
      ]
     },
     "execution_count": 8,
     "metadata": {},
     "output_type": "execute_result"
    }
   ],
   "source": [
    "unique, count = np.unique(Y_train, return_counts=True)\n",
    "Y_train_dict_value_count = { k:v for (k,v) in zip(unique, count)}\n",
    "Y_train_dict_value_count"
   ]
  },
  {
   "cell_type": "code",
   "execution_count": 18,
   "id": "50d73faf",
   "metadata": {
    "ExecuteTime": {
     "end_time": "2021-11-21T03:12:07.946331Z",
     "start_time": "2021-11-21T03:12:07.925376Z"
    }
   },
   "outputs": [],
   "source": [
    "# Applying SMOTE technique\n",
    "\n",
    "sm = SMOTE(random_state=12, sampling_strategy = 1.0)\n",
    "X_smote, y_smote  = sm.fit_resample(X, y)"
   ]
  },
  {
   "cell_type": "code",
   "execution_count": 19,
   "id": "20af41dd",
   "metadata": {
    "ExecuteTime": {
     "end_time": "2021-11-21T03:12:16.674560Z",
     "start_time": "2021-11-21T03:12:16.659567Z"
    }
   },
   "outputs": [
    {
     "data": {
      "text/plain": [
       "(5310, 15)"
      ]
     },
     "execution_count": 19,
     "metadata": {},
     "output_type": "execute_result"
    }
   ],
   "source": [
    "X_smote.shape"
   ]
  },
  {
   "cell_type": "code",
   "execution_count": 20,
   "id": "508c3a60",
   "metadata": {
    "ExecuteTime": {
     "end_time": "2021-11-21T03:12:46.505502Z",
     "start_time": "2021-11-21T03:12:46.491536Z"
    }
   },
   "outputs": [
    {
     "data": {
      "text/plain": [
       "(5310,)"
      ]
     },
     "execution_count": 20,
     "metadata": {},
     "output_type": "execute_result"
    }
   ],
   "source": [
    "y_smote.shape"
   ]
  },
  {
   "cell_type": "code",
   "execution_count": 23,
   "id": "e1defa16",
   "metadata": {
    "ExecuteTime": {
     "end_time": "2021-11-21T03:16:39.196414Z",
     "start_time": "2021-11-21T03:16:39.187436Z"
    }
   },
   "outputs": [
    {
     "name": "stdout",
     "output_type": "stream",
     "text": [
      "Counter({0: 2655, 1: 2655})\n"
     ]
    }
   ],
   "source": [
    "counter = Counter(y_smote)\n",
    "print(counter)"
   ]
  },
  {
   "cell_type": "code",
   "execution_count": 10,
   "id": "6c80a1db",
   "metadata": {
    "ExecuteTime": {
     "end_time": "2021-11-21T03:04:25.293085Z",
     "start_time": "2021-11-21T03:04:25.283151Z"
    }
   },
   "outputs": [
    {
     "data": {
      "text/plain": [
       "{0: 1858, 1: 1858}"
      ]
     },
     "execution_count": 10,
     "metadata": {},
     "output_type": "execute_result"
    }
   ],
   "source": [
    "unique, count = np.unique(y_train_res, return_counts=True)\n",
    "y_train_smote_value_count = { k:v for (k,v) in zip(unique, count)}\n",
    "y_train_smote_value_count"
   ]
  },
  {
   "cell_type": "markdown",
   "id": "8aa24f16",
   "metadata": {},
   "source": [
    "Here, after applying SMOTE we treat the imbalanced data and we are able to get same number of values for both the categories i.e, churn and non-churn"
   ]
  },
  {
   "cell_type": "code",
   "execution_count": 25,
   "id": "f0f9e9bc",
   "metadata": {
    "ExecuteTime": {
     "end_time": "2021-11-21T03:21:21.302533Z",
     "start_time": "2021-11-21T03:21:21.282550Z"
    }
   },
   "outputs": [],
   "source": [
    "#scale smote data\n",
    "\n",
    "scaler = MinMaxScaler()\n",
    "scaler.fit(X_smote)\n",
    "X_scaled_smote = scaler.transform(X_smote)"
   ]
  },
  {
   "cell_type": "code",
   "execution_count": 30,
   "id": "2f756adf",
   "metadata": {
    "ExecuteTime": {
     "end_time": "2021-11-21T03:24:09.676541Z",
     "start_time": "2021-11-21T03:24:09.662557Z"
    }
   },
   "outputs": [],
   "source": [
    "# split data to X train/test and Y train/test\n",
    "X_smote_train, X_smote_test, Y_smote_train, Y_smote_test = train_test_split(X_scaled_smote, y_smote, test_size=0.30, random_state=100, stratify = y_smote)"
   ]
  },
  {
   "cell_type": "markdown",
   "id": "f5404b27",
   "metadata": {},
   "source": [
    "### Resampling technique - Undersampling"
   ]
  },
  {
   "cell_type": "code",
   "execution_count": 11,
   "id": "10980cb6",
   "metadata": {
    "ExecuteTime": {
     "end_time": "2021-11-21T03:04:26.946301Z",
     "start_time": "2021-11-21T03:04:26.931341Z"
    }
   },
   "outputs": [
    {
     "name": "stdout",
     "output_type": "stream",
     "text": [
      "class 0: (2655, 16)\n",
      "\n",
      "class 1: (495, 16)\n"
     ]
    }
   ],
   "source": [
    "# class count\n",
    "class_count_0, class_count_1 = churn_df['Churn'].value_counts()\n",
    "# divie class\n",
    "class_0 = churn_df[churn_df['Churn'] == 0]\n",
    "class_1 = churn_df[churn_df['Churn'] == 1]\n",
    "# print the shape of the class\n",
    "print('class 0:', class_0.shape)\n",
    "print('\\nclass 1:', class_1.shape)"
   ]
  },
  {
   "cell_type": "code",
   "execution_count": 12,
   "id": "800cd78d",
   "metadata": {
    "ExecuteTime": {
     "end_time": "2021-11-21T03:04:28.472407Z",
     "start_time": "2021-11-21T03:04:28.325211Z"
    },
    "scrolled": false
   },
   "outputs": [
    {
     "name": "stdout",
     "output_type": "stream",
     "text": [
      "total class of 1 and 0:\n",
      " 0    495\n",
      "1    495\n",
      "Name: Churn, dtype: int64\n"
     ]
    },
    {
     "data": {
      "image/png": "[encoded data removed]",
      "text/plain": [
       "<Figure size 576x576 with 1 Axes>"
      ]
     },
     "metadata": {},
     "output_type": "display_data"
    }
   ],
   "source": [
    "class_0_under = class_0.sample(class_count_1)\n",
    "\n",
    "test_under = pd.concat([class_0_under, class_1], axis=0)\n",
    "\n",
    "print(\"total class of 1 and 0:\\n\",test_under['Churn'].value_counts())\n",
    "\n",
    "test_under['Churn'].value_counts().plot(kind='bar', title='Count (target)')\n",
    "plt.show()"
   ]
  },
  {
   "cell_type": "markdown",
   "id": "bd7beae4",
   "metadata": {},
   "source": [
    "#### XGBoost model without sampling"
   ]
  },
  {
   "cell_type": "code",
   "execution_count": 33,
   "id": "8f1acccb",
   "metadata": {
    "ExecuteTime": {
     "end_time": "2021-11-21T03:38:10.981345Z",
     "start_time": "2021-11-21T03:38:10.713063Z"
    }
   },
   "outputs": [
    {
     "name": "stdout",
     "output_type": "stream",
     "text": [
      "\n",
      "#####  TEST SCORES  #####\n",
      "--------------------\n",
      "ACCURACY: 0.9513\n",
      "\n",
      "AUC: 0.8859\n",
      "\n",
      "CONFUSION MATRIX:\n",
      "--------------------\n",
      "[[782  15]\n",
      " [ 31 117]]\n",
      "\n",
      "--------------------\n",
      "              precision    recall  f1-score   support\n",
      "\n",
      "           0       0.96      0.98      0.97       797\n",
      "           1       0.89      0.79      0.84       148\n",
      "\n",
      "    accuracy                           0.95       945\n",
      "   macro avg       0.92      0.89      0.90       945\n",
      "weighted avg       0.95      0.95      0.95       945\n",
      "\n"
     ]
    }
   ],
   "source": [
    "\n",
    "model = XGBClassifier(eval_metric='mlogloss')\n",
    "model.fit(X_train, Y_train)\n",
    "# make predictions for test data\n",
    "y_pred = model.predict(X_test)\n",
    "predictions = [round(value) for value in y_pred]\n",
    "# evaluate predictions\n",
    "results, false = display_test_scores(Y_test, predictions)\n",
    "print(results)"
   ]
  },
  {
   "cell_type": "code",
   "execution_count": 14,
   "id": "d912f0a0",
   "metadata": {
    "ExecuteTime": {
     "end_time": "2021-11-21T03:04:33.405637Z",
     "start_time": "2021-11-21T03:04:33.387682Z"
    }
   },
   "outputs": [],
   "source": [
    "# display test scores and return result string and indexes of false samples\n",
    "def display_test_scores(test, pred):\n",
    "    str_out = \"\\n\"\n",
    "    str_out += (\"#####  TEST SCORES  #####\\n--------------------\")\n",
    "    str_out += (\"\\n\")\n",
    "\n",
    "    #print accuracy\n",
    "    accuracy = accuracy_score(test, pred)\n",
    "    str_out += (\"ACCURACY: {:.4f}\\n\".format(accuracy))\n",
    "    str_out += (\"\\n\")\n",
    "\n",
    "    #print AUC score\n",
    "    auc = roc_auc_score(test, pred)\n",
    "    str_out += (\"AUC: {:.4f}\\n\".format(auc))\n",
    "    str_out += (\"\\n\")\n",
    "    \n",
    "    #print confusion matrix\n",
    "    str_out += (\"CONFUSION MATRIX:\\n--------------------\\n\")\n",
    "    conf_mat = confusion_matrix(test, pred)\n",
    "    str_out += (\"{}\".format(conf_mat))\n",
    "    str_out += (\"\\n\")\n",
    "    str_out += (\"\\n--------------------\\n\")\n",
    "\n",
    "    #print classification report\n",
    "    str_out += (\"{}\".format(classification_report(test, pred)))\n",
    "    \n",
    "    false_indexes = np.where(test != pred)\n",
    "    return str_out, false_indexes"
   ]
  },
  {
   "cell_type": "markdown",
   "id": "5679993f",
   "metadata": {},
   "source": [
    "### Naive-Bayes Classifier without sampling "
   ]
  },
  {
   "cell_type": "code",
   "execution_count": 35,
   "id": "7d256422",
   "metadata": {
    "ExecuteTime": {
     "end_time": "2021-11-21T03:49:50.341544Z",
     "start_time": "2021-11-21T03:49:49.645334Z"
    },
    "scrolled": false
   },
   "outputs": [
    {
     "name": "stdout",
     "output_type": "stream",
     "text": [
      "\n",
      "*************************GaussianNB()****************************************\n",
      "\n",
      "\n",
      "#####  TEST SCORES  #####\n",
      "--------------------\n",
      "ACCURACY: 0.6423\n",
      "\n",
      "AUC: 0.7577\n",
      "\n",
      "CONFUSION MATRIX:\n",
      "--------------------\n",
      "[[470 327]\n",
      " [ 11 137]]\n",
      "\n",
      "--------------------\n",
      "              precision    recall  f1-score   support\n",
      "\n",
      "           0       0.98      0.59      0.74       797\n",
      "           1       0.30      0.93      0.45       148\n",
      "\n",
      "    accuracy                           0.64       945\n",
      "   macro avg       0.64      0.76      0.59       945\n",
      "weighted avg       0.87      0.64      0.69       945\n",
      "\n"
     ]
    },
    {
     "data": {
      "image/png": "[encoded data removed]",
      "text/plain": [
       "<Figure size 576x576 with 1 Axes>"
      ]
     },
     "metadata": {},
     "output_type": "display_data"
    },
    {
     "name": "stdout",
     "output_type": "stream",
     "text": [
      "\n",
      "****************************MultinomialNB()*************************************\n",
      "\n",
      "\n",
      "#####  TEST SCORES  #####\n",
      "--------------------\n",
      "ACCURACY: 0.8942\n",
      "\n",
      "AUC: 0.6759\n",
      "\n",
      "CONFUSION MATRIX:\n",
      "--------------------\n",
      "[[792   5]\n",
      " [ 95  53]]\n",
      "\n",
      "--------------------\n",
      "              precision    recall  f1-score   support\n",
      "\n",
      "           0       0.89      0.99      0.94       797\n",
      "           1       0.91      0.36      0.51       148\n",
      "\n",
      "    accuracy                           0.89       945\n",
      "   macro avg       0.90      0.68      0.73       945\n",
      "weighted avg       0.90      0.89      0.87       945\n",
      "\n"
     ]
    },
    {
     "data": {
      "image/png": "[encoded data removed]",
      "text/plain": [
       "<Figure size 576x576 with 1 Axes>"
      ]
     },
     "metadata": {},
     "output_type": "display_data"
    },
    {
     "name": "stdout",
     "output_type": "stream",
     "text": [
      "\n",
      "****************************MultinomialNB()*************************************\n",
      "\n",
      "\n",
      "#####  TEST SCORES  #####\n",
      "--------------------\n",
      "ACCURACY: 0.8095\n",
      "\n",
      "AUC: 0.8045\n",
      "\n",
      "CONFUSION MATRIX:\n",
      "--------------------\n",
      "[[647 150]\n",
      " [ 30 118]]\n",
      "\n",
      "--------------------\n",
      "              precision    recall  f1-score   support\n",
      "\n",
      "           0       0.96      0.81      0.88       797\n",
      "           1       0.44      0.80      0.57       148\n",
      "\n",
      "    accuracy                           0.81       945\n",
      "   macro avg       0.70      0.80      0.72       945\n",
      "weighted avg       0.87      0.81      0.83       945\n",
      "\n"
     ]
    },
    {
     "data": {
      "image/png": "[encoded data removed]",
      "text/plain": [
       "<Figure size 576x576 with 1 Axes>"
      ]
     },
     "metadata": {},
     "output_type": "display_data"
    }
   ],
   "source": [
    "# Naive-Bayes with different approaches\n",
    "# Naive-Bayes with different approaches\n",
    "\n",
    "# fit GaussianNB classifier\n",
    "# grid search for parameters\n",
    "gaussian_clf = GaussianNB()\n",
    "gaussian_clf.fit(X_train, Y_train)\n",
    "\n",
    "\n",
    "\n",
    "# print best scores\n",
    "# print(\"The best parameters are %s with a score of %0.4f\\n\"\n",
    "#       % (gaussian_clf.best_params_, gaussian_clf.best_score_))\n",
    "\n",
    "# prediction results\n",
    "y_pred = gaussian_clf.predict(X_test)\n",
    "\n",
    "# print accuracy metrics\n",
    "results, false = display_test_scores(Y_test, y_pred)\n",
    "print(\"\\n*************************GaussianNB()****************************************\\n\")\n",
    "print(results)\n",
    "\n",
    "#plot ROC curve\n",
    "metrics.plot_roc_curve(gaussian_clf, X_test, Y_test)\n",
    "plt.title(\"ROC of GaussianNB classifier\")\n",
    "plt.show()\n",
    "\n",
    "\n",
    "#====================================================================================================\n",
    "\n",
    "# fit MultinomialNB classifier\n",
    "Multinomial_clf = MultinomialNB()\n",
    "Multinomial_clf.fit(X_train, Y_train)\n",
    "\n",
    "\n",
    "\n",
    "# print best scores\n",
    "# print(\"The best parameters are %s with a score of %0.4f\\n\"\n",
    "#       % (Multinomial_clf.best_params_, Multinomial_clf.best_score_))\n",
    "\n",
    "# prediction results\n",
    "y_pred = Multinomial_clf.predict(X_test)\n",
    "\n",
    "# print accuracy metrics\n",
    "results, false = display_test_scores(Y_test, y_pred)\n",
    "print(\"\\n****************************MultinomialNB()*************************************\\n\")\n",
    "print(results)\n",
    "\n",
    "#plot ROC curve\n",
    "metrics.plot_roc_curve(Multinomial_clf, X_test, Y_test)\n",
    "plt.title(\"ROC of MultinomialNB classifier\")\n",
    "plt.show()\n",
    "\n",
    "\n",
    "\n",
    "#====================================================================================================\n",
    "\n",
    "ComplementNB_clf = ComplementNB()\n",
    "ComplementNB_clf.fit(X_train, Y_train)\n",
    "\n",
    "\n",
    "# print best scores\n",
    "# print(\"The best parameters are %s with a score of %0.4f\\n\"\n",
    "#       % (Multinomial_clf.best_params_, Multinomial_clf.best_score_))\n",
    "\n",
    "# prediction results\n",
    "y_pred = ComplementNB_clf.predict(X_test)\n",
    "\n",
    "# print accuracy metrics\n",
    "results, false = display_test_scores(Y_test, y_pred)\n",
    "print(\"\\n****************************ComplementNB_clf()*************************************\\n\")\n",
    "print(results)\n",
    "\n",
    "#plot ROC curve\n",
    "metrics.plot_roc_curve(ComplementNB_clf, X_test, Y_test)\n",
    "plt.title(\"ROC of ComplementNB classifier\")\n",
    "plt.show()\n"
   ]
  },
  {
   "cell_type": "markdown",
   "id": "367cce11",
   "metadata": {},
   "source": [
    "### Naive-Bayes Classifier using SMOTE sampling"
   ]
  },
  {
   "cell_type": "code",
   "execution_count": 37,
   "id": "9639b787",
   "metadata": {
    "ExecuteTime": {
     "end_time": "2021-11-21T03:51:15.748890Z",
     "start_time": "2021-11-21T03:51:15.008299Z"
    },
    "scrolled": false
   },
   "outputs": [
    {
     "name": "stdout",
     "output_type": "stream",
     "text": [
      "\n",
      "*************************GaussianNB() with SMOTE sampling****************************************\n",
      "\n",
      "\n",
      "#####  TEST SCORES  #####\n",
      "--------------------\n",
      "ACCURACY: 0.7451\n",
      "\n",
      "AUC: 0.7453\n",
      "\n",
      "CONFUSION MATRIX:\n",
      "--------------------\n",
      "[[434 363]\n",
      " [ 43 753]]\n",
      "\n",
      "--------------------\n",
      "              precision    recall  f1-score   support\n",
      "\n",
      "           0       0.91      0.54      0.68       797\n",
      "           1       0.67      0.95      0.79       796\n",
      "\n",
      "    accuracy                           0.75      1593\n",
      "   macro avg       0.79      0.75      0.73      1593\n",
      "weighted avg       0.79      0.75      0.73      1593\n",
      "\n"
     ]
    },
    {
     "data": {
      "image/png": "[encoded data removed]",
      "text/plain": [
       "<Figure size 576x576 with 1 Axes>"
      ]
     },
     "metadata": {},
     "output_type": "display_data"
    },
    {
     "name": "stdout",
     "output_type": "stream",
     "text": [
      "\n",
      "****************************MultinomialNB() with SMOTE sampling*************************************\n",
      "\n",
      "\n",
      "#####  TEST SCORES  #####\n",
      "--------------------\n",
      "ACCURACY: 0.8286\n",
      "\n",
      "AUC: 0.8286\n",
      "\n",
      "CONFUSION MATRIX:\n",
      "--------------------\n",
      "[[640 157]\n",
      " [116 680]]\n",
      "\n",
      "--------------------\n",
      "              precision    recall  f1-score   support\n",
      "\n",
      "           0       0.85      0.80      0.82       797\n",
      "           1       0.81      0.85      0.83       796\n",
      "\n",
      "    accuracy                           0.83      1593\n",
      "   macro avg       0.83      0.83      0.83      1593\n",
      "weighted avg       0.83      0.83      0.83      1593\n",
      "\n"
     ]
    },
    {
     "data": {
      "image/png": "[encoded data removed]",
      "text/plain": [
       "<Figure size 576x576 with 1 Axes>"
      ]
     },
     "metadata": {},
     "output_type": "display_data"
    },
    {
     "name": "stdout",
     "output_type": "stream",
     "text": [
      "\n",
      "****************************MultinomialNB() with SMOTE sampling*************************************\n",
      "\n",
      "\n",
      "#####  TEST SCORES  #####\n",
      "--------------------\n",
      "ACCURACY: 0.8293\n",
      "\n",
      "AUC: 0.8293\n",
      "\n",
      "CONFUSION MATRIX:\n",
      "--------------------\n",
      "[[641 156]\n",
      " [116 680]]\n",
      "\n",
      "--------------------\n",
      "              precision    recall  f1-score   support\n",
      "\n",
      "           0       0.85      0.80      0.82       797\n",
      "           1       0.81      0.85      0.83       796\n",
      "\n",
      "    accuracy                           0.83      1593\n",
      "   macro avg       0.83      0.83      0.83      1593\n",
      "weighted avg       0.83      0.83      0.83      1593\n",
      "\n"
     ]
    },
    {
     "data": {
      "image/png": "[encoded data removed]",
      "text/plain": [
       "<Figure size 576x576 with 1 Axes>"
      ]
     },
     "metadata": {},
     "output_type": "display_data"
    }
   ],
   "source": [
    "# Naive-Bayes with different approaches\n",
    "\n",
    "# fit GaussianNB classifier\n",
    "# grid search for parameters\n",
    "gaussian_clf = GaussianNB()\n",
    "gaussian_clf.fit(X_smote_train, Y_smote_train)\n",
    "\n",
    "\n",
    "\n",
    "# print best scores\n",
    "# print(\"The best parameters are %s with a score of %0.4f\\n\"\n",
    "#       % (gaussian_clf.best_params_, gaussian_clf.best_score_))\n",
    "\n",
    "# prediction results\n",
    "y_pred = gaussian_clf.predict(X_smote_test)\n",
    "\n",
    "# print accuracy metrics\n",
    "results, false = display_test_scores(Y_smote_test, y_pred)\n",
    "print(\"\\n*************************GaussianNB() with SMOTE sampling****************************************\\n\")\n",
    "print(results)\n",
    "\n",
    "#plot ROC curve\n",
    "metrics.plot_roc_curve(gaussian_clf, X_smote_test, Y_smote_test)\n",
    "plt.title(\"ROC of GaussianNB classifier with SMOTE sampling\")\n",
    "plt.show()\n",
    "\n",
    "\n",
    "#====================================================================================================\n",
    "\n",
    "# fit MultinomialNB classifier\n",
    "Multinomial_clf = MultinomialNB()\n",
    "Multinomial_clf.fit(X_smote_train, Y_smote_train)\n",
    "\n",
    "\n",
    "\n",
    "# print best scores\n",
    "# print(\"The best parameters are %s with a score of %0.4f\\n\"\n",
    "#       % (Multinomial_clf.best_params_, Multinomial_clf.best_score_))\n",
    "\n",
    "# prediction results\n",
    "y_pred = Multinomial_clf.predict(X_smote_test)\n",
    "\n",
    "# print accuracy metrics\n",
    "results, false = display_test_scores(Y_smote_test, y_pred)\n",
    "print(\"\\n****************************MultinomialNB() with SMOTE sampling*************************************\\n\")\n",
    "print(results)\n",
    "\n",
    "#plot ROC curve\n",
    "metrics.plot_roc_curve(Multinomial_clf, X_smote_test, Y_smote_test)\n",
    "plt.title(\"ROC of MultinomialNB classifier with SMOTE sampling\")\n",
    "plt.show()\n",
    "\n",
    "\n",
    "\n",
    "#====================================================================================================\n",
    "\n",
    "ComplementNB_clf = ComplementNB()\n",
    "ComplementNB_clf.fit(X_smote_train, Y_smote_train)\n",
    "\n",
    "\n",
    "# print best scores\n",
    "# print(\"The best parameters are %s with a score of %0.4f\\n\"\n",
    "#       % (Multinomial_clf.best_params_, Multinomial_clf.best_score_))\n",
    "\n",
    "# prediction results\n",
    "y_pred = ComplementNB_clf.predict(X_smote_test)\n",
    "\n",
    "# print accuracy metrics\n",
    "results, false = display_test_scores(Y_smote_test, y_pred)\n",
    "print(\"\\n****************************ComplementNB() with SMOTE sampling*************************************\\n\")\n",
    "print(results)\n",
    "\n",
    "#plot ROC curve\n",
    "metrics.plot_roc_curve(ComplementNB_clf, X_smote_test, Y_smote_test)\n",
    "plt.title(\"ROC of ComplementNB classifier with SMOTE sampling\")\n",
    "plt.show()\n"
   ]
  },
  {
   "cell_type": "code",
   "execution_count": null,
   "id": "5004b302",
   "metadata": {},
   "outputs": [],
   "source": []
  },
  {
   "cell_type": "code",
   "execution_count": null,
   "id": "abca4e9f",
   "metadata": {},
   "outputs": [],
   "source": []
  },
  {
   "cell_type": "code",
   "execution_count": null,
   "id": "e8fcefe3",
   "metadata": {},
   "outputs": [],
   "source": []
  },
  {
   "cell_type": "code",
   "execution_count": null,
   "id": "11d516c4",
   "metadata": {},
   "outputs": [],
   "source": []
  },
  {
   "cell_type": "code",
   "execution_count": null,
   "id": "f0a1bbbb",
   "metadata": {},
   "outputs": [],
   "source": []
  },
  {
   "cell_type": "code",
   "execution_count": null,
   "id": "afce85e1",
   "metadata": {},
   "outputs": [],
   "source": []
  },
  {
   "cell_type": "markdown",
   "id": "5ded7877",
   "metadata": {
    "ExecuteTime": {
     "end_time": "2021-11-21T02:09:39.207892Z",
     "start_time": "2021-11-21T02:09:39.008423Z"
    },
    "heading_collapsed": true
   },
   "source": [
    "#### TODO: Interactive ROC curve"
   ]
  },
  {
   "cell_type": "code",
   "execution_count": 45,
   "id": "d3244d60",
   "metadata": {
    "ExecuteTime": {
     "end_time": "2021-11-21T02:43:41.973682Z",
     "start_time": "2021-11-21T02:43:41.958725Z"
    },
    "code_folding": [],
    "hidden": true
   },
   "outputs": [],
   "source": [
    "# def plot_interactive_roc_curve(df, fpr, tpr, thresholds):\n",
    "#     fig = px.area(\n",
    "#         data_frame=df, \n",
    "#         x=fpr, \n",
    "#         y=tpr,\n",
    "#         hover_data=thresholds, \n",
    "#         title='ROC Curve'\n",
    "#     )\n",
    "#     fig.update_layout(\n",
    "#         autosize=False,\n",
    "#         width=500,\n",
    "#         height=500,\n",
    "#         margin=dict(l=30, r=30, b=30, t=30, pad=4),\n",
    "#         title_x=.5, # Centre title\n",
    "#         hovermode = 'closest',\n",
    "#         xaxis=dict(hoverformat='.4f'),\n",
    "#         yaxis=dict(hoverformat='.4f')\n",
    "#     )\n",
    "#     hovertemplate = 'False Positive Rate=%{x}<br>True Positive Rate=%{y}<br>Threshold=%{customdata[0]:.4f}<extra></extra>'\n",
    "#     fig.update_traces(hovertemplate=hovertemplate)\n",
    "    \n",
    "#     # Add dashed line with a slope of 1\n",
    "#     fig.add_shape(type='line', line=dict(dash='dash'), x0=0, x1=1, y0=0, y1=1)\n",
    "#     fig.show()\n",
    "    \n",
    "# plot_interactive_roc_curve(df=churn_df, \n",
    "#                            fpr='false_positive_rate', \n",
    "#                            tpr='true_positive_rate', \n",
    "#                            thresholds=['threshold'])"
   ]
  },
  {
   "cell_type": "code",
   "execution_count": null,
   "id": "61537889",
   "metadata": {
    "hidden": true
   },
   "outputs": [],
   "source": []
  }
 ],
 "metadata": {
  "kernelspec": {
   "display_name": "Python 3",
   "language": "python",
   "name": "python3"
  },
  "language_info": {
   "codemirror_mode": {
    "name": "ipython",
    "version": 3
   },
   "file_extension": ".py",
   "mimetype": "text/x-python",
   "name": "python",
   "nbconvert_exporter": "python",
   "pygments_lexer": "ipython3",
   "version": "3.7.11"
  }
 },
 "nbformat": 4,
 "nbformat_minor": 5
}
